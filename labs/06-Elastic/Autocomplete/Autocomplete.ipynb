{
  "cells": [
    {
      "cell_type": "markdown",
      "metadata": {},
      "source": [
        "<a target=\"_blank\" href=\"https://colab.research.google.com/github/michalis0/Cloud-and-Advanced-Analytics/blob/main/labs/06-Elastic/Autocomplete/Autocomplete.ipynb\">\n",
        "  <img src=\"https://colab.research.google.com/assets/colab-badge.svg\" alt=\"Open In Colab\"/>\n",
        "</a>"
      ]
    },
    {
      "cell_type": "markdown",
      "metadata": {
        "id": "Xedxp5FpN2aZ"
      },
      "source": [
        "## **Autocomplete with Elastic Search:**"
      ]
    },
    {
      "cell_type": "code",
      "execution_count": 1,
      "metadata": {
        "colab": {
          "base_uri": "https://localhost:8080/"
        },
        "id": "L6QujwXTLlj7",
        "outputId": "7e587f39-7a84-4bf7-c083-12eba7b8a4d0"
      },
      "outputs": [
        {
          "name": "stdout",
          "output_type": "stream",
          "text": [
            "Collecting elasticsearch\n",
            "  Downloading elasticsearch-8.12.1-py3-none-any.whl (432 kB)\n",
            "\u001b[2K     \u001b[90m━━━━━━━━━━━━━━━━━━━━━━━━━━━━━━━━━━━━━━━━\u001b[0m \u001b[32m432.1/432.1 kB\u001b[0m \u001b[31m3.3 MB/s\u001b[0m eta \u001b[36m0:00:00\u001b[0m\n",
            "\u001b[?25hCollecting elastic-transport<9,>=8 (from elasticsearch)\n",
            "  Downloading elastic_transport-8.12.0-py3-none-any.whl (59 kB)\n",
            "\u001b[2K     \u001b[90m━━━━━━━━━━━━━━━━━━━━━━━━━━━━━━━━━━━━━━━━\u001b[0m \u001b[32m59.9/59.9 kB\u001b[0m \u001b[31m4.6 MB/s\u001b[0m eta \u001b[36m0:00:00\u001b[0m\n",
            "\u001b[?25hRequirement already satisfied: urllib3<3,>=1.26.2 in /usr/local/lib/python3.10/dist-packages (from elastic-transport<9,>=8->elasticsearch) (2.0.7)\n",
            "Requirement already satisfied: certifi in /usr/local/lib/python3.10/dist-packages (from elastic-transport<9,>=8->elasticsearch) (2024.2.2)\n",
            "Installing collected packages: elastic-transport, elasticsearch\n",
            "Successfully installed elastic-transport-8.12.0 elasticsearch-8.12.1\n"
          ]
        }
      ],
      "source": [
        "# Download libraries\n",
        "!pip install elasticsearch"
      ]
    },
    {
      "cell_type": "code",
      "execution_count": 4,
      "metadata": {
        "id": "tONsF160P3q_"
      },
      "outputs": [],
      "source": [
        "URL_ENDPOINT =   \"https://.........:443\"\n",
        "API_KEY = \"\"\n",
        "INDEX_NAME = 'trending_videos_youtube_elastic_data'"
      ]
    },
    {
      "cell_type": "code",
      "execution_count": 6,
      "metadata": {
        "id": "Qf79Zh14LsM2"
      },
      "outputs": [],
      "source": [
        "from elasticsearch import Elasticsearch\n",
        "# Initiate the connexion to the index\n",
        "client = Elasticsearch(\n",
        "  URL_ENDPOINT,\n",
        "  api_key=API_KEY\n",
        ")"
      ]
    },
    {
      "cell_type": "code",
      "execution_count": 22,
      "metadata": {
        "colab": {
          "base_uri": "https://localhost:8080/"
        },
        "id": "lIL4sEAeMLW_",
        "outputId": "bec48386-2085-44f5-9994-9b426f90f139"
      },
      "outputs": [
        {
          "data": {
            "text/plain": [
              "ObjectApiResponse({'name': 'instance-0000000000', 'cluster_name': '407ca2e2bcc744a8b51be000a82096de', 'cluster_uuid': 'g-FHNu1dRO6cH2VKEu2hFg', 'version': {'number': '8.12.2', 'build_flavor': 'default', 'build_type': 'docker', 'build_hash': '48a287ab9497e852de30327444b0809e55d46466', 'build_date': '2024-02-19T10:04:32.774273190Z', 'build_snapshot': False, 'lucene_version': '9.9.2', 'minimum_wire_compatibility_version': '7.17.0', 'minimum_index_compatibility_version': '7.0.0'}, 'tagline': 'You Know, for Search'})"
            ]
          },
          "execution_count": 22,
          "metadata": {},
          "output_type": "execute_result"
        }
      ],
      "source": [
        "# Check connexion\n",
        "client.info()"
      ]
    },
    {
      "cell_type": "code",
      "execution_count": 24,
      "metadata": {
        "colab": {
          "base_uri": "https://localhost:8080/"
        },
        "id": "FYqW4DBZNAZH",
        "outputId": "46f2259b-a808-43ff-bf02-44115f337666"
      },
      "outputs": [
        {
          "name": "stdout",
          "output_type": "stream",
          "text": [
            "PourQuoi un scooter est mieux qu'ne moto ? C2\n",
            "⚡ Pourquoi le triphasé ? - HS - Monsieur Bidouille B1\n",
            "Pourquoi faut-il éviter les hybrides rechargeables ? B2\n",
            "Pourquoi le conflit Israël-Palestine est si important ? B1\n",
            "Pourquoi et comment mémoriser du VOCABULAIRE | Français COURANT + sous-titres  et transcription PDF. B2\n"
          ]
        }
      ],
      "source": [
        "# Search test\n",
        "response = client.search(index=\"trending_videos_youtube_elastic_data\", q=\"Pourquoi\")\n",
        "# Process search results\n",
        "for hit in response['hits']['hits']:\n",
        "    print(hit['_source']['title'], hit['_source']['videoDifficulty'])"
      ]
    },
    {
      "cell_type": "code",
      "execution_count": 25,
      "metadata": {
        "colab": {
          "base_uri": "https://localhost:8080/"
        },
        "id": "Szy51oTKtD03",
        "outputId": "f4dd408b-c7a0-4217-ff39-ffc2bf96c520"
      },
      "outputs": [
        {
          "data": {
            "text/plain": [
              "ObjectApiResponse({'took': 1, 'timed_out': False, '_shards': {'total': 1, 'successful': 1, 'skipped': 0, 'failed': 0}, 'hits': {'total': {'value': 5, 'relation': 'eq'}, 'max_score': 3.4007745, 'hits': [{'_index': 'trending_videos_youtube_elastic_data', '_id': 'MFb9dI4Bb1Z5B_xfRFHr', '_score': 3.4007745, '_source': {'channel_title': 'The Choucroute Garage', 'videoDifficulty': 'C2', '@timestamp': '2022-09-09T00:00:00.000+02:00', 'category_id': 'Autos & Vehicles', 'publish_time': '2022-09-09', 'title': \"PourQuoi un scooter est mieux qu'ne moto ?\", 'views': 42000, 'video_id': 'oRi3EMoSckY', 'likes': 1000}}, {'_index': 'trending_videos_youtube_elastic_data', '_id': 'UVb9dI4Bb1Z5B_xfRFHr', '_score': 3.4007745, '_source': {'channel_title': 'Monsieur Bidouille', 'videoDifficulty': 'B1', '@timestamp': '2018-07-30T00:00:00.000+02:00', 'category_id': 'Science & Technology', 'publish_time': '2018-07-30', 'title': '⚡ Pourquoi le triphasé ? - HS - Monsieur Bidouille', 'views': 325000, 'video_id': 'JwOTA5a2mK0', 'likes': 17000}}, {'_index': 'trending_videos_youtube_elastic_data', '_id': 'Ulb9dI4Bb1Z5B_xfRFHr', '_score': 3.4007745, '_source': {'channel_title': 'Max BLD', 'videoDifficulty': 'B2', '@timestamp': '2022-05-31T00:00:00.000+02:00', 'category_id': 'Autos & Vehicles', 'publish_time': '2022-05-31', 'title': 'Pourquoi faut-il éviter les hybrides rechargeables ?', 'views': 74000, 'video_id': '1TAU7MsTXKM', 'likes': 711}}, {'_index': 'trending_videos_youtube_elastic_data', '_id': '_1b9dI4Bb1Z5B_xfRFDr', '_score': 3.2344751, '_source': {'channel_title': 'TAOQAN', 'videoDifficulty': 'B1', '@timestamp': '2023-10-20T00:00:00.000+02:00', 'category_id': 'News & Politics', 'publish_time': '2023-10-20', 'title': 'Pourquoi le conflit Israël-Palestine est si important ?', 'views': 201000, 'video_id': 'SMzWtsjauo0', 'likes': 13000}}, {'_index': 'trending_videos_youtube_elastic_data', '_id': 'DVb9dI4Bb1Z5B_xfRFHr', '_score': 2.5990114, '_source': {'channel_title': 'Français avec Fluidité', 'videoDifficulty': 'B2', '@timestamp': '2023-08-26T00:00:00.000+02:00', 'category_id': 'Education', 'publish_time': '2023-08-26', 'title': 'Pourquoi et comment mémoriser du VOCABULAIRE | Français COURANT + sous-titres  et transcription PDF.', 'views': 31000, 'video_id': 'UM8DIt293QA', 'likes': 1000}}]}})"
            ]
          },
          "execution_count": 25,
          "metadata": {},
          "output_type": "execute_result"
        }
      ],
      "source": [
        "# print the entire response\n",
        "response"
      ]
    },
    {
      "cell_type": "code",
      "execution_count": 28,
      "metadata": {
        "colab": {
          "base_uri": "https://localhost:8080/"
        },
        "id": "_zYfI9VBtO96",
        "outputId": "dc4d182e-950d-430b-eeb2-d04d6d503123"
      },
      "outputs": [
        {
          "name": "stdout",
          "output_type": "stream",
          "text": [
            "['Education', 'News & Politics', 'Science & Technology', 'Entertainment', 'Autos & Vehicles', 'Howto & Style', 'People & Blogs', 'Nonprofits & Activism', 'Travel & Events', 'Film & Animation', 'Sports']\n"
          ]
        }
      ],
      "source": [
        "# Get all the categories\n",
        "aggregation_query = {\n",
        "    \"aggs\": {\n",
        "        \"category_ids\": {\n",
        "            \"terms\": {\n",
        "                \"field\": \"category_id\",\n",
        "                \"size\": 100\n",
        "            }\n",
        "        }\n",
        "    }\n",
        "}\n",
        "\n",
        "res = client.search(index=\"trending_videos_youtube_elastic_data\", body=aggregation_query)\n",
        "\n",
        "category_ids = [bucket['key'] for bucket in res['aggregations']['category_ids']['buckets']]\n",
        "print(category_ids)"
      ]
    },
    {
      "cell_type": "code",
      "execution_count": 41,
      "metadata": {
        "colab": {
          "base_uri": "https://localhost:8080/"
        },
        "id": "3oF7tnfJs-CH",
        "outputId": "56098791-a590-4777-d7f0-99931d551633"
      },
      "outputs": [
        {
          "name": "stdout",
          "output_type": "stream",
          "text": [
            "Cette vidéo t'explique le conflit historique entre Israël et Palestine B2 192000\n",
            "Tu peux mieux parler français dans 30 jours B1 144000\n"
          ]
        }
      ],
      "source": [
        "# Search by boolean query\n",
        "body = {\n",
        "    \"query\": {\n",
        "        \"bool\": {\n",
        "            \"must\": [\n",
        "                {\"match\": {\"category_id\": \"Education\"}}\n",
        "            ],\n",
        "            \"filter\": [\n",
        "                {\"range\": {\"likes\": {\"gte\": 100000}}} # Greater of Equal to\n",
        "            ]\n",
        "        }\n",
        "    }\n",
        "}\n",
        "\n",
        "response = client.search(index=\"trending_videos_youtube_elastic_data\", body=body)\n",
        "\n",
        "# Process search results\n",
        "for hit in response['hits']['hits']:\n",
        "    print(hit['_source']['title'], hit['_source']['videoDifficulty'],hit['_source']['likes'])"
      ]
    },
    {
      "cell_type": "code",
      "execution_count": 33,
      "metadata": {
        "colab": {
          "base_uri": "https://localhost:8080/"
        },
        "id": "QSDoqn6Ssqoa",
        "outputId": "5949632b-08c6-4b51-8634-f110c615dca7"
      },
      "outputs": [
        {
          "name": "stdout",
          "output_type": "stream",
          "text": [
            "{'channel_title': 'The Choucroute Garage', 'videoDifficulty': 'C2', '@timestamp': '2022-09-09T00:00:00.000+02:00', 'category_id': 'Autos & Vehicles', 'publish_time': '2022-09-09', 'title': \"PourQuoi un scooter est mieux qu'ne moto ?\", 'views': 42000, 'video_id': 'oRi3EMoSckY', 'likes': 1000}\n",
            "{'channel_title': 'Monsieur Bidouille', 'videoDifficulty': 'B1', '@timestamp': '2018-07-30T00:00:00.000+02:00', 'category_id': 'Science & Technology', 'publish_time': '2018-07-30', 'title': '⚡ Pourquoi le triphasé ? - HS - Monsieur Bidouille', 'views': 325000, 'video_id': 'JwOTA5a2mK0', 'likes': 17000}\n",
            "{'channel_title': 'Max BLD', 'videoDifficulty': 'B2', '@timestamp': '2022-05-31T00:00:00.000+02:00', 'category_id': 'Autos & Vehicles', 'publish_time': '2022-05-31', 'title': 'Pourquoi faut-il éviter les hybrides rechargeables ?', 'views': 74000, 'video_id': '1TAU7MsTXKM', 'likes': 711}\n",
            "{'channel_title': 'TAOQAN', 'videoDifficulty': 'B1', '@timestamp': '2023-10-20T00:00:00.000+02:00', 'category_id': 'News & Politics', 'publish_time': '2023-10-20', 'title': 'Pourquoi le conflit Israël-Palestine est si important ?', 'views': 201000, 'video_id': 'SMzWtsjauo0', 'likes': 13000}\n",
            "{'channel_title': 'Français avec Fluidité', 'videoDifficulty': 'B2', '@timestamp': '2023-08-26T00:00:00.000+02:00', 'category_id': 'Education', 'publish_time': '2023-08-26', 'title': 'Pourquoi et comment mémoriser du VOCABULAIRE | Français COURANT + sous-titres  et transcription PDF.', 'views': 31000, 'video_id': 'UM8DIt293QA', 'likes': 1000}\n"
          ]
        }
      ],
      "source": [
        "# Search test\n",
        "response = client.search(index=\"trending_videos_youtube_elastic_data\", q=\"Pourquoi\")\n",
        "# Process search results\n",
        "for hit in response['hits']['hits']:\n",
        "    print(hit['_source'])"
      ]
    },
    {
      "cell_type": "code",
      "execution_count": 12,
      "metadata": {
        "id": "tSTQCx0ZM0H8"
      },
      "outputs": [],
      "source": [
        "# Function to perform autocomplete search\n",
        "def autocomplete_search(query):\n",
        "    body = {\n",
        "        \"query\": {\n",
        "            \"match_phrase_prefix\": {\n",
        "                \"title\": {\n",
        "                    \"query\": query,\n",
        "                    \"max_expansions\": 10  # Adjust the number of expansions as needed\n",
        "                }\n",
        "            }\n",
        "        },\n",
        "        \"sort\": [\n",
        "      {\"views\": {\"order\": \"desc\"}}  # Sort by view count\n",
        "        ]\n",
        "    }\n",
        "\n",
        "\n",
        "    response = client.search(index=INDEX_NAME, body=body)\n",
        "    suggestions = [hit['_source']['title'] for hit in response['hits']['hits']]\n",
        "    num_hits = len(suggestions)\n",
        "    return suggestions,num_hits\n",
        "\n",
        "\n",
        "while True:\n",
        "    search_query = input(\"Enter video title (type 'exit' to quit): \")\n",
        "    print(\"-----------------------\")\n",
        "    if search_query.lower() == 'exit':\n",
        "        break\n",
        "\n",
        "    # Perform autocomplete search\n",
        "    autocomplete_results,num_hits = autocomplete_search(search_query)\n",
        "\n",
        "    print(\"Autocomplete Suggestions:\")\n",
        "    print(\"Number of results\",num_hits)\n",
        "    print(\"------------------------\")\n",
        "    for result in autocomplete_results:\n",
        "        print(result)"
      ]
    }
  ],
  "metadata": {
    "colab": {
      "provenance": []
    },
    "kernelspec": {
      "display_name": "Python 3",
      "name": "python3"
    },
    "language_info": {
      "name": "python"
    }
  },
  "nbformat": 4,
  "nbformat_minor": 0
}
