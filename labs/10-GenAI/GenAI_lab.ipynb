{
 "cells": [
  {
   "cell_type": "markdown",
   "metadata": {
    "id": "54-eKP7yoIVd"
   },
   "source": [
    "# Some examples of prompt engineering with code using chatGPT"
   ]
  },
  {
   "cell_type": "markdown",
   "metadata": {
    "id": "bHYBYUubAArg"
   },
   "source": [
    "In this lab, you'll practice two prompting principles and their related tactics in order to write effective prompts for large language models. \n",
    "\n",
    "Feel free to tryout different models! You can find them here:\n",
    "    https://cloud.google.com/vertex-ai/generative-ai/docs/learn/model-versions"
   ]
  },
  {
   "cell_type": "code",
   "execution_count": 1,
   "metadata": {
    "id": "5GZGesg2i3Kh",
    "tags": []
   },
   "outputs": [],
   "source": [
    "import vertexai\n",
    "from vertexai.preview.generative_models import GenerativeModel, ChatSession\n"
   ]
  },
  {
   "cell_type": "code",
   "execution_count": 2,
   "metadata": {
    "id": "G2wOXwEXoG2Z",
    "tags": []
   },
   "outputs": [],
   "source": [
    "def get_chat_response(chat: ChatSession , prompt: str):\n",
    "    response = chat.send_message(prompt)\n",
    "    return response.text"
   ]
  },
  {
   "cell_type": "code",
   "execution_count": 6,
   "metadata": {
    "id": "OlkV3446AHv_",
    "tags": []
   },
   "outputs": [],
   "source": [
    "model = GenerativeModel(\"gemini-2.0-flash-001\")\n",
    "chat = model.start_chat()"
   ]
  },
  {
   "cell_type": "markdown",
   "metadata": {
    "id": "eQ_rQQp5xKQD"
   },
   "source": [
    "## 1. Text Summarization\n",
    "\n",
    "Summarizing or shortening text is an important operation in text analytics. Before genAI it was a difficult task. Now it is super easy!"
   ]
  },
  {
   "cell_type": "code",
   "execution_count": 7,
   "metadata": {
    "id": "23XtVIAkwm-y",
    "tags": []
   },
   "outputs": [],
   "source": [
    "review = \"\"\"\n",
    "As VFX and special effects take over the traditional filmmaking methods, \\\n",
    "Nolan is among the remaining few directors who still builds grandiose true-to-life sets \\\n",
    " and reflects cinematic setpieces by filming them instead of digitising them. \\\n",
    " Oppenheimer is thus a culmination of Nolan's cinematic genius combined with an \\\n",
    " incredible story that changed the world in more ways than one. It's incredibly intimate \\\n",
    " and divisive, with the onus of it's justification being put on the audience instead of \\\n",
    " the narrator.\n",
    "\n",
    "The cast is just as incredible as you would expect it to be, and the screenplay flows \\\n",
    "naturally, with a breathtaking score that justifiably draws parallels from Hans Zimmer's \\\n",
    "profound work in Interstellar. Nolan balances the intimacy between the characters while \\\n",
    " simultaneously juxtaposing it with some of the most impactful scenes ever shown on the big \\\n",
    "  screen. The movie's runtime takes it's time in setting up it's pieces, with the finale \\\n",
    "  leaving you utterly spellbound at the sheer magnitude and scale of the events transpiring \\\n",
    "  right in front of your eyes.\n",
    "\n",
    "Lastly, for those who want their daily dosage of immediate dopamine and faster pacing \\\n",
    " in the theatre instead of experiencing a meticulously guided journey, you could wait a \\\n",
    " few more months for yet another copy paste Fast and Furious flick or a Marvel movie laden \\\n",
    "  with green backdrops and fan-service.\n",
    "\"\"\""
   ]
  },
  {
   "cell_type": "markdown",
   "metadata": {
    "id": "WyQrGu3vxMlA"
   },
   "source": [
    "### Summarize with a word/sentence/character limit\n",
    "\n",
    "In a prompt you can also provide constraints. Note, they may not be fulfilled!"
   ]
  },
  {
   "cell_type": "code",
   "execution_count": 8,
   "metadata": {
    "colab": {
     "base_uri": "https://localhost:8080/"
    },
    "id": "8oEq1SelxPbT",
    "outputId": "27e33208-d55c-4af0-fff6-feb83a705d24",
    "tags": []
   },
   "outputs": [
    {
     "name": "stdout",
     "output_type": "stream",
     "text": [
      "Nolan's *Oppenheimer* blends an incredible true story with his signature filmmaking style, prioritizing practical effects and a thought-provoking narrative. The film features a stellar cast and score, delivering a captivating and impactful cinematic experience.\n",
      "\n"
     ]
    }
   ],
   "source": [
    "prompt = f\"\"\"\n",
    "Your task is to generate a short summary of a movie \\\n",
    "review from a website.\n",
    "\n",
    "Summarize the review below, delimited by triple\n",
    "backticks, in at most 30 words.\n",
    "\n",
    "Review: ```{review}```\n",
    "\"\"\"\n",
    "\n",
    "response = get_chat_response(chat, prompt)\n",
    "print(response)"
   ]
  },
  {
   "cell_type": "markdown",
   "metadata": {
    "id": "I_wyZzgh5Aal"
   },
   "source": [
    "## 2. Inferring\n",
    "\n",
    "### Classification\n",
    "\n",
    "Text classification is a core operation in text analytics. Again, very easy to do with genAI, because of all the inherent knowledge that has been already ingested.\n",
    "\n"
   ]
  },
  {
   "cell_type": "code",
   "execution_count": 9,
   "metadata": {
    "id": "QyiP_es14tgt",
    "tags": []
   },
   "outputs": [],
   "source": [
    "review = \"\"\"\n",
    "It's a pretty good printer, but my first one so I don't have anything to judge it on. Here are some things you need to know- 1. \n",
    "It's a kit, and not entirely assembled, so it's nice to have your own tools to put it together, instead of using the ones that come with it. 2. \n",
    "The directions are not really that great. The ones I got didn't quite match and the pictures were a little small. \n",
    "There are some really good youtube videos, so just look up S3 assembly. 3. Right now, it's really cheap, in fact droping from $279 to what I paid $175, to 149 as of today. 4. \n",
    "The prints, with a little tweaking, are just fine. They have a decent surface finish and seem strong enough for my uses. I really like it at $175, but it would be really an awesome printer at $149.\n",
    "The Voxelab software works great. Although it doesn't have a touch screen, the menus are easy to use with a turn and press knob. With a 300C hot end and direct drive, there's no filment you can't print.\n",
    "\"\"\""
   ]
  },
  {
   "cell_type": "markdown",
   "metadata": {
    "id": "6HA-KAyN6YWO"
   },
   "source": [
    "### Sentiment analysis \n",
    "\n",
    "We can also do sentiment analysis without providing any examples (zero-shot). You can also provide some examples, then the operation is called few-shot, eg 5-shot if you give 5-examples."
   ]
  },
  {
   "cell_type": "code",
   "execution_count": 10,
   "metadata": {
    "colab": {
     "base_uri": "https://localhost:8080/"
    },
    "id": "VlR-uNyT6JcV",
    "outputId": "64ad8ccd-3166-44ba-c749-35d8e2727eb6",
    "tags": []
   },
   "outputs": [
    {
     "name": "stdout",
     "output_type": "stream",
     "text": [
      "The sentiment is **moderately positive**.\n",
      "\n",
      "Here's why:\n",
      "\n",
      "*   **Positive aspects:** The reviewer likes the print quality after tweaking, finds the Voxelab software great, and highlights the printer's versatility due to the hot end and direct drive. They also express enthusiasm about the price.\n",
      "*   **Negative aspects:** The reviewer notes the printer is a kit requiring assembly with potentially inadequate tools, and criticizes the poor assembly instructions.\n",
      "*   **Overall:** While there are criticisms, the reviewer ultimately says they \"really like it\" at the price they paid and express that it would be \"awesome\" at an even lower price. This suggests a positive overall experience, tempered by initial difficulties with assembly.\n",
      "\n"
     ]
    }
   ],
   "source": [
    "prompt = f\"\"\"\n",
    "What is the sentiment of the following product review,\n",
    "which is delimited with triple backticks?\n",
    "\n",
    "Review text: '''{review}'''\n",
    "\"\"\"\n",
    "response = get_chat_response(chat, prompt)\n",
    "print(response)"
   ]
  },
  {
   "cell_type": "code",
   "execution_count": 11,
   "metadata": {
    "colab": {
     "base_uri": "https://localhost:8080/"
    },
    "id": "EZOiHeKT6Z0w",
    "outputId": "f5893537-dda6-4d3a-94c0-dd94c29ee174",
    "tags": []
   },
   "outputs": [
    {
     "name": "stdout",
     "output_type": "stream",
     "text": [
      "positive\n",
      "\n"
     ]
    }
   ],
   "source": [
    "prompt = f\"\"\"\n",
    "What is the sentiment of the following product review,\n",
    "which is delimited with triple backticks?\n",
    "\n",
    "Give your answer as a single word, either \"positive\" \\\n",
    "or \"negative\".\n",
    "\n",
    "Review text: '''{review}'''\n",
    "\"\"\"\n",
    "response = get_chat_response(chat, prompt)\n",
    "print(response)"
   ]
  },
  {
   "cell_type": "markdown",
   "metadata": {
    "id": "XAicwq0xBCaA"
   },
   "source": [
    "## EXERCISE 1:\n",
    "\n",
    "With your neighbor, create a prompt to receive a list of French sentences and annotate them as A1,...C2 (i.e., very easy - super difficult).\n",
    "\n",
    "> It is accurate?\n",
    "\n",
    "> Is it stable?\n",
    "\n"
   ]
  },
  {
   "cell_type": "code",
   "execution_count": 12,
   "metadata": {
    "id": "yp8rpfryBeKF",
    "tags": []
   },
   "outputs": [],
   "source": [
    "## YOUR SOLUTION HERE"
   ]
  },
  {
   "cell_type": "markdown",
   "metadata": {
    "id": "_pa-WV1-6lXA"
   },
   "source": [
    "## 3. Expanding\n",
    "\n",
    "### Extract product and company name from customer reviews"
   ]
  },
  {
   "cell_type": "code",
   "execution_count": 13,
   "metadata": {
    "id": "HduxI4oo6nkL",
    "tags": []
   },
   "outputs": [
    {
     "name": "stdout",
     "output_type": "stream",
     "text": [
      "```json\n",
      "{\n",
      "  \"Item\": \"printer\",\n",
      "  \"Brand\": \"Voxelab\"\n",
      "}\n",
      "```\n"
     ]
    }
   ],
   "source": [
    "prompt = f\"\"\"\n",
    "Identify the following items from the review text:\n",
    "- Item purchased by reviewer\n",
    "- Company that made the item\n",
    "\n",
    "The review is delimited with triple backticks. \\\n",
    "Format your response as a JSON object with \\\n",
    "\"Item\" and \"Brand\" as the keys.\n",
    "If the information isn't present, use \"unknown\" \\\n",
    "as the value.\n",
    "Make your response as short as possible.\n",
    "\n",
    "Review text: '''{review}'''\n",
    "\"\"\"\n",
    "response = get_chat_response(chat, prompt)\n",
    "print(response)"
   ]
  },
  {
   "cell_type": "markdown",
   "metadata": {
    "id": "9Aa74Nn76voE"
   },
   "source": [
    "### Doing multiple tasks at once"
   ]
  },
  {
   "cell_type": "code",
   "execution_count": 14,
   "metadata": {
    "id": "xW2NZOtl6uYl",
    "tags": []
   },
   "outputs": [
    {
     "name": "stdout",
     "output_type": "stream",
     "text": [
      "```json\n",
      "{\n",
      "  \"Sentiment\": \"positive\",\n",
      "  \"Anger\": false,\n",
      "  \"Item\": \"printer\",\n",
      "  \"Brand\": \"Voxelab\"\n",
      "}\n",
      "```\n"
     ]
    }
   ],
   "source": [
    "prompt = f\"\"\"\n",
    "Identify the following items from the review text:\n",
    "- Sentiment (positive or negative)\n",
    "- Is the reviewer expressing anger? (true or false)\n",
    "- Item purchased by reviewer\n",
    "- Company that made the item\n",
    "\n",
    "The review is delimited with triple backticks. \\\n",
    "Format your response as a JSON object with \\\n",
    "\"Sentiment\", \"Anger\", \"Item\" and \"Brand\" as the keys.\n",
    "If the information isn't present, use \"unknown\" \\\n",
    "as the value.\n",
    "Make your response as short as possible.\n",
    "Format the Anger value as a boolean.\n",
    "\n",
    "Review text: '''{review}'''\n",
    "\"\"\"\n",
    "response = get_chat_response(chat, prompt)\n",
    "print(response)"
   ]
  },
  {
   "cell_type": "markdown",
   "metadata": {
    "id": "rVwhcd5a67Lr"
   },
   "source": [
    "### Topic detection"
   ]
  },
  {
   "cell_type": "code",
   "execution_count": 15,
   "metadata": {
    "id": "sFOAatUu7B8M",
    "tags": []
   },
   "outputs": [
    {
     "name": "stdout",
     "output_type": "stream",
     "text": [
      "Printer, Assembly, Price, Prints, Software\n",
      "\n"
     ]
    }
   ],
   "source": [
    "prompt = f\"\"\"\n",
    "Determine five topics that are being discussed in the \\\n",
    "following text, which is delimited by triple backticks.\n",
    "\n",
    "Make each item one or two words long.\n",
    "\n",
    "Format your response as a list of items separated by commas.\n",
    "\n",
    "Text sample: '''{review}'''\n",
    "\"\"\"\n",
    "response = get_chat_response(chat, prompt)\n",
    "print(response)"
   ]
  },
  {
   "cell_type": "code",
   "execution_count": 16,
   "metadata": {
    "id": "anTesqzb7KI7",
    "tags": []
   },
   "outputs": [
    {
     "data": {
      "text/plain": [
       "['Printer', ' Assembly', ' Price', ' Prints', ' Software\\n']"
      ]
     },
     "execution_count": 16,
     "metadata": {},
     "output_type": "execute_result"
    }
   ],
   "source": [
    "response.split(sep=',')"
   ]
  },
  {
   "cell_type": "markdown",
   "metadata": {
    "id": "F9Jz3MNy7dkd"
   },
   "source": [
    "### Transforming the output"
   ]
  },
  {
   "cell_type": "code",
   "execution_count": null,
   "metadata": {
    "id": "t8b2soR47fiQ"
   },
   "outputs": [],
   "source": [
    "data_json = { \"resturant employees\" :[\n",
    "    {\"name\":\"Mike\", \"email\":\"mike@gmail.com\"},\n",
    "    {\"name\":\"Bob\", \"email\":\"bob32@gmail.com\"},\n",
    "    {\"name\":\"John\", \"email\":\"john87@gmail.com\"}\n",
    "]}\n",
    "\n",
    "prompt = f\"\"\"\n",
    "Translate the following python dictionary from JSON to an HTML \\\n",
    "table with column headers and title: {data_json}\n",
    "\"\"\"\n",
    "response = get_chat_response(chat, prompt)\n",
    "print(response)"
   ]
  },
  {
   "cell_type": "code",
   "execution_count": null,
   "metadata": {
    "id": "LKGltGHu7pa_"
   },
   "outputs": [],
   "source": [
    "from IPython.display import display, Markdown, Latex, HTML, JSON\n",
    "display(HTML(response))"
   ]
  }
 ],
 "metadata": {
  "colab": {
   "provenance": []
  },
  "environment": {
   "kernel": "conda-base-py",
   "name": "workbench-notebooks.m129",
   "type": "gcloud",
   "uri": "us-docker.pkg.dev/deeplearning-platform-release/gcr.io/workbench-notebooks:m129"
  },
  "kernelspec": {
   "display_name": "Python 3 (ipykernel) (Local)",
   "language": "python",
   "name": "conda-base-py"
  },
  "language_info": {
   "codemirror_mode": {
    "name": "ipython",
    "version": 3
   },
   "file_extension": ".py",
   "mimetype": "text/x-python",
   "name": "python",
   "nbconvert_exporter": "python",
   "pygments_lexer": "ipython3",
   "version": "3.10.16"
  }
 },
 "nbformat": 4,
 "nbformat_minor": 4
}
