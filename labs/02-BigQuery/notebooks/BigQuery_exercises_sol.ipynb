{
  "cells": [
    {
      "cell_type": "markdown",
      "metadata": {
        "id": "view-in-github",
        "colab_type": "text"
      },
      "source": [
        "<a href=\"https://colab.research.google.com/github/michalis0/Cloud-and-Advanced-Analytics/blob/main/labs/2-BigQuery/notebooks/BigQuery_exercises_sol.ipynb\" target=\"_parent\"><img src=\"https://colab.research.google.com/assets/colab-badge.svg\" alt=\"Open In Colab\"/></a>"
      ]
    },
    {
      "cell_type": "markdown",
      "metadata": {
        "id": "6WJ5C6ArRk5r"
      },
      "source": [
        "# Google BigQuery"
      ]
    },
    {
      "cell_type": "markdown",
      "metadata": {
        "id": "pWOMedVoVgli"
      },
      "source": [
        "## Walkthrough"
      ]
    },
    {
      "cell_type": "markdown",
      "metadata": {
        "id": "ceFkCPaeU0n8"
      },
      "source": [
        "### Authentication"
      ]
    },
    {
      "cell_type": "code",
      "execution_count": null,
      "metadata": {
        "id": "9axiyPg4U0n8"
      },
      "outputs": [],
      "source": [
        "import os\n",
        "\n",
        "PROJECT_NAME = \"\" # REPLACE WITH YOUR PROJECT NAME\n"
      ]
    },
    {
      "cell_type": "markdown",
      "metadata": {
        "id": "vT788YhyRk6A"
      },
      "source": [
        "#### For Colab users (recommended)"
      ]
    },
    {
      "cell_type": "code",
      "execution_count": null,
      "metadata": {
        "id": "I5c_DgIgRk6B"
      },
      "outputs": [],
      "source": [
        "from google.colab import auth\n",
        "auth.authenticate_user()\n",
        "print(\"Authenticated\")"
      ]
    },
    {
      "cell_type": "markdown",
      "metadata": {
        "id": "7vrVrJY4Rk6D"
      },
      "source": [
        "#### For Jupyter users ONLY (more challenging)"
      ]
    },
    {
      "cell_type": "markdown",
      "metadata": {
        "id": "EUCzh8RdRk6E"
      },
      "source": [
        "Follow [this](https://cloud.google.com/iam/docs/creating-managing-service-account-keys) guide to create the JSON with the service account key. Then, make sure to replace \"PATH_TO_CREDENTIALS_FILE\" with the *absolute* path to the JSON service account key (e.g., \"C:/Users/John/credentials.json\")."
      ]
    },
    {
      "cell_type": "code",
      "execution_count": null,
      "metadata": {
        "id": "1SVcCZqtRk6E"
      },
      "outputs": [],
      "source": [
        "# %pip install google-cloud-bigquery\n",
        "# %pip install db-dtypes"
      ]
    },
    {
      "cell_type": "code",
      "execution_count": null,
      "metadata": {
        "id": "N4gJJv3hRk6F"
      },
      "outputs": [],
      "source": [
        "# os.environ[\"GOOGLE_APPLICATION_CREDENTIALS\"] = PATH_TO_KEY"
      ]
    },
    {
      "cell_type": "markdown",
      "metadata": {
        "id": "u_4iEQwJRk6F"
      },
      "source": [
        "### Connect to BigQuery"
      ]
    },
    {
      "cell_type": "code",
      "execution_count": null,
      "metadata": {
        "id": "y6MUVJ1URk6G"
      },
      "outputs": [],
      "source": [
        "import pandas as pd\n",
        "from google.cloud import bigquery\n",
        "\n",
        "# Create a \"Client\" object\n",
        "client = bigquery.Client(project=PROJECT_NAME)"
      ]
    },
    {
      "cell_type": "markdown",
      "metadata": {
        "id": "YPEYucCGT6Qg"
      },
      "source": [
        "To run the cells below, you must first create a new dataset in BigQuery and upload the data from week 2 (`Teams.csv` and `Players.csv`) as tables. Since the CSV files are well-formed, you can automatically infer the schema when loading the data."
      ]
    },
    {
      "cell_type": "code",
      "execution_count": null,
      "metadata": {
        "id": "IdAE_PhARk6I"
      },
      "outputs": [],
      "source": [
        "# Create a reference to the World Cup dataset\n",
        "dataset_ref = client.dataset(\"world_cup\", project=PROJECT_NAME)  # CHANGE WITH YOUR OWN DATASET (NOT TABLE) NAME AND PROJECT ID\n",
        "\n",
        "# API request - fetch the dataset\n",
        "dataset = client.get_dataset(dataset_ref)"
      ]
    },
    {
      "cell_type": "code",
      "execution_count": null,
      "metadata": {
        "id": "WHH2DGDkRk6I"
      },
      "outputs": [],
      "source": [
        "# List the tables in the dataset\n",
        "tables = list(client.list_tables(dataset))\n",
        "for table in tables:\n",
        "    print(table.table_id)"
      ]
    },
    {
      "cell_type": "code",
      "execution_count": null,
      "metadata": {
        "id": "UKzGks1YRk6J"
      },
      "outputs": [],
      "source": [
        "# Create a reference to the \"Teams\" table and fetch the table\n",
        "table_ref = dataset_ref.table(\"teams\") # Make sure it matches the table name printed above (case sensitive)\n",
        "teams_table = client.get_table(table_ref)\n",
        "\n",
        "# Same for the \"Players\" table\n",
        "table_ref = dataset_ref.table(\"players\") # Make sure it matches the table name printed above (case sensitive)\n",
        "players_table = client.get_table(table_ref)"
      ]
    },
    {
      "cell_type": "code",
      "execution_count": null,
      "metadata": {
        "id": "CF2Pu6FnRk6J"
      },
      "outputs": [],
      "source": [
        "# Display the schema of the \"Teams\" table\n",
        "players_table.schema"
      ]
    },
    {
      "cell_type": "code",
      "execution_count": null,
      "metadata": {
        "id": "KlY3CHcRRk6K"
      },
      "outputs": [],
      "source": [
        "# Show a preview of the \"Teams\" table using pandas\n",
        "client.list_rows(teams_table, max_results=5).to_dataframe()"
      ]
    },
    {
      "cell_type": "markdown",
      "metadata": {
        "id": "3woLn6TZVojo"
      },
      "source": [
        "### Example of queries"
      ]
    },
    {
      "cell_type": "code",
      "execution_count": null,
      "metadata": {
        "id": "bp9vS2MjRk6L"
      },
      "outputs": [],
      "source": [
        "q1 = \"\"\"\n",
        "select *\n",
        "from %s.world_cup.teams\n",
        "where ranking < 20\n",
        "order by ranking\n",
        "\"\"\" %PROJECT_NAME\n",
        "\n",
        "query_job = client.query(q1)\n",
        "query_job.to_dataframe()"
      ]
    },
    {
      "cell_type": "code",
      "execution_count": null,
      "metadata": {
        "id": "9-I84KsDRk6L"
      },
      "outputs": [],
      "source": [
        "# Join the two tables\n",
        "q2 = \"\"\"\n",
        "select teams.*, players.surname, players.position, players.shots,\n",
        "players.minutes, players.passes, players.tackles, players.saves\n",
        "from %s.world_cup.teams teams\n",
        "join %s.world_cup.players players\n",
        "on teams.team = players.team\n",
        "\"\"\" %(PROJECT_NAME, PROJECT_NAME)\n",
        "\n",
        "query_job = client.query(q2)\n",
        "query_job.to_dataframe().head(10)"
      ]
    },
    {
      "cell_type": "markdown",
      "metadata": {
        "id": "YUBLAfHTVPCV"
      },
      "source": [
        "### Basic Queries"
      ]
    },
    {
      "cell_type": "code",
      "execution_count": null,
      "metadata": {
        "id": "g5UCVtXIU0oC"
      },
      "outputs": [],
      "source": [
        "query = \"SELECT * FROM {}.world_cup.players LIMIT 5\".format(PROJECT_NAME)\n",
        "query_job = client.query(query)\n",
        "query_job.to_dataframe().head(10)"
      ]
    },
    {
      "cell_type": "code",
      "execution_count": null,
      "metadata": {
        "id": "Q5kMsz9VU0oD"
      },
      "outputs": [],
      "source": [
        "query = \"SELECT * FROM {}.world_cup.teams LIMIT 5\".format(PROJECT_NAME)\n",
        "query_job = client.query(query)\n",
        "query_job.to_dataframe().head(10)"
      ]
    },
    {
      "cell_type": "code",
      "execution_count": null,
      "metadata": {
        "id": "MghOJ4p6U0oD"
      },
      "outputs": [],
      "source": [
        "query = \"\"\"SELECT surname, team, minutes, passes\n",
        "            FROM {}.world_cup.players\n",
        "            WHERE team=\"Switzerland\" AND surname LIKE \"%er%\"\n",
        "            ORDER BY surname\"\"\".format(PROJECT_NAME)\n",
        "query_job = client.query(query)\n",
        "query_job.to_dataframe().head(10)"
      ]
    },
    {
      "cell_type": "code",
      "execution_count": null,
      "metadata": {
        "id": "tfuyrH54U0oD"
      },
      "outputs": [],
      "source": [
        "query = \"\"\"SELECT team, COUNT(*) AS number_players_listed\n",
        "            FROM {}.world_cup.players\n",
        "            GROUP BY team\n",
        "            HAVING number_players_listed<20\n",
        "            ORDER BY number_players_listed DESC\n",
        "            LIMIT 5\"\"\".format(PROJECT_NAME)\n",
        "query_job = client.query(query)\n",
        "query_job.to_dataframe().head(10)"
      ]
    },
    {
      "cell_type": "code",
      "execution_count": null,
      "metadata": {
        "id": "c0XzWY2yU0oD"
      },
      "outputs": [],
      "source": [
        "query = \"\"\"SELECT surname, position, minutes, T.team, ranking, games, wins, draws, losses\n",
        "            FROM {}.world_cup.players as P\n",
        "            JOIN {}.world_cup.teams AS T\n",
        "            ON P.team=T.team\n",
        "            WHERE surname <\"C\"\n",
        "            LIMIT 5\"\"\".format(PROJECT_NAME, PROJECT_NAME)\n",
        "query_job = client.query(query)\n",
        "query_job.to_dataframe().head(10)"
      ]
    },
    {
      "cell_type": "markdown",
      "metadata": {
        "id": "AQmfZJefU0oD"
      },
      "source": [
        "## Exercise 1 - World Cup datasets"
      ]
    },
    {
      "cell_type": "markdown",
      "metadata": {
        "id": "pLmefaQJU0oD"
      },
      "source": [
        "### Simple Queries\n",
        "The first three questions are already solved for you, so that you have concrete examples of queries. Try to solve the remaining ones!"
      ]
    },
    {
      "cell_type": "markdown",
      "metadata": {
        "id": "J5ELWIm8U0oE"
      },
      "source": [
        "*1)  Which player on a team ending with \"ia\" played less than 200 minutes and made more than 100 passes? Return the player's surname and team.*\n",
        "\n",
        "**Hint**: To check if attribute A contains a (sub)string S, use the LIKE keyword (e.g. `A like '%S%'`). The % sign indicates a wildcard."
      ]
    },
    {
      "cell_type": "code",
      "execution_count": null,
      "metadata": {
        "id": "FlbYz8EwU0oE"
      },
      "outputs": [],
      "source": [
        "# Your query goes here\n",
        "query = \"\"\"select surname, team\n",
        "            from {}.world_cup.players as P\n",
        "            where P.team like '%ia'\n",
        "            and P.minutes < 200\n",
        "            and P.passes > 100\"\"\".format(PROJECT_NAME)\n",
        "query_job = client.query(query)\n",
        "query_job.to_dataframe().head(10)"
      ]
    },
    {
      "cell_type": "markdown",
      "metadata": {
        "id": "TQ2WkLzGU0oE"
      },
      "source": [
        "*2) Find all players who made more than 20 shots. Return all player information in descending order of shots made.*\n",
        "\n",
        "**Hint**: Sorting results is done via the ORDER BY keyword. The default order is ascending (ASC). If you want descending order, use DESC (e.g. `ORDER BY column_1, column_2 DESC`)."
      ]
    },
    {
      "cell_type": "code",
      "execution_count": null,
      "metadata": {
        "id": "EACDnGP4U0oE"
      },
      "outputs": [],
      "source": [
        "# Your query goes here\n",
        "query = \"\"\"select *\n",
        "            from {}.world_cup.players as P\n",
        "            where shots > 20\n",
        "            order by shots desc\"\"\".format(PROJECT_NAME)\n",
        "query_job = client.query(query)\n",
        "query_job.to_dataframe().head(10)"
      ]
    },
    {
      "cell_type": "markdown",
      "metadata": {
        "id": "_OKSSfFlU0oE"
      },
      "source": [
        "*3) Which team has the highest average number of passes per minute played? Return the team's name and average number of passes per minute.*\n",
        "\n",
        "**Hint #1**: You can compute a team's average number of passes per minute played by dividing the total number of passes by the total number of minutes. To force floating point division, multiply one operand by 1.0.\n",
        "\n",
        "**Hint #2**: Consider using the LIMIT keyword."
      ]
    },
    {
      "cell_type": "code",
      "execution_count": null,
      "metadata": {
        "id": "Gt-_v4WPU0oE"
      },
      "outputs": [],
      "source": [
        "# Your query goes here\n",
        "query = \"\"\"SELECT *, (1.0 * total_passes / total_minutes) AS avg_ppm\n",
        "            FROM (\n",
        "                SELECT team, sum(passes) AS total_passes, sum(minutes) AS total_minutes\n",
        "                FROM {}.world_cup.players_and_teams\n",
        "                GROUP BY team)\n",
        "            ORDER BY avg_ppm DESC\n",
        "            LIMIT 1\"\"\".format(PROJECT_NAME)\n",
        "query_job = client.query(query)\n",
        "query_job.to_dataframe().head(10)"
      ]
    },
    {
      "cell_type": "markdown",
      "metadata": {
        "id": "2kxDEyzxU0oF"
      },
      "source": [
        "*4) Find the goalkeepers of teams that played more than four games. List the surname of the goalkeeper, the team, and the number of minutes the goalkeeper played.*\n",
        "\n",
        "**Hint**: Use the `PlayersExt` table."
      ]
    },
    {
      "cell_type": "code",
      "execution_count": null,
      "metadata": {
        "id": "J86zG7FsU0oF"
      },
      "outputs": [],
      "source": [
        "# Your query goes here\n",
        "query = \"\"\"select surname, team, minutes\n",
        "            FROM {}.world_cup.players_and_teams\n",
        "            where position like \"goal%\"\n",
        "            and games > 4\"\"\".format(PROJECT_NAME)\n",
        "query_job = client.query(query)\n",
        "query_job.to_dataframe().head(10)"
      ]
    },
    {
      "cell_type": "markdown",
      "metadata": {
        "id": "L2VYk4NUU0oF"
      },
      "source": [
        "*5) How many players on a team with a ranking lower than 10 played more than 350 minutes? Return a single number in a column named \"superstar\".*\n",
        "\n",
        "**Hint**: To rename a column, use the AS keyword (e.g. `SELECT column_1 AS label`)."
      ]
    },
    {
      "cell_type": "code",
      "execution_count": null,
      "metadata": {
        "id": "lacL9_WOU0oF"
      },
      "outputs": [],
      "source": [
        "# Your query goes here\n",
        "query = \"\"\"select count(surname) as superstar\n",
        "            FROM {}.world_cup.players_and_teams\n",
        "            where ranking < 10\n",
        "            and minutes > 350\"\"\".format(PROJECT_NAME)\n",
        "query_job = client.query(query)\n",
        "query_job.to_dataframe().head(10)"
      ]
    },
    {
      "cell_type": "markdown",
      "metadata": {
        "id": "7Zbiq8GWU0oJ"
      },
      "source": [
        "*6) What is the average number of passes made by forwards? What about midfielders? Write one query that returns both values with the corresponding position.*\n",
        "\n",
        "**Hint**: Use the GROUP BY keyword. GROUP BY statements are often used in conjuction with aggregate functions like AVG(), SUM() or COUNT()."
      ]
    },
    {
      "cell_type": "code",
      "execution_count": null,
      "metadata": {
        "id": "uQe1MGLEU0oJ"
      },
      "outputs": [],
      "source": [
        "# Your query goes here\n",
        "query = \"\"\"select position, avg(passes) as avg_passes\n",
        "            FROM {}.world_cup.players\n",
        "            where position in (\"forward\", \"midfielder\")\n",
        "            group by position\"\"\".format(PROJECT_NAME)\n",
        "query_job = client.query(query)\n",
        "query_job.to_dataframe().head(10)"
      ]
    },
    {
      "cell_type": "markdown",
      "metadata": {
        "id": "IjC98iy8U0oJ"
      },
      "source": [
        "### Advanced Queries\n",
        "Now, on to more challenging questions..."
      ]
    },
    {
      "cell_type": "markdown",
      "metadata": {
        "id": "QJteIqzeU0oJ"
      },
      "source": [
        "*1) Find all pairs of teams that have the same number of `goalsFor` as well as the same number of `goalsAgainst` as each other. Return the team pairs and their respective numbers of `goalsFor` and `goalsAgainst` (make sure to return each pair only once!).*\n",
        "\n",
        "**Hint**: You basically need to do a \"self join\" of the `Teams` table. For that, you need to join different name aliases of the same table. Check [this page](https://www.w3schools.com/sql/sql_join_self.asp) for help."
      ]
    },
    {
      "cell_type": "code",
      "execution_count": null,
      "metadata": {
        "id": "VuUp1jpUU0oK"
      },
      "outputs": [],
      "source": [
        "# Your query goes here\n",
        "query = \"\"\"select *\n",
        "        FROM {}.world_cup.teams as T1, {}.world_cup.teams as T2\n",
        "        LIMIT 3\"\"\".format(PROJECT_NAME, PROJECT_NAME)\n",
        "query_job = client.query(query)\n",
        "query_job.to_dataframe().head(10)"
      ]
    },
    {
      "cell_type": "code",
      "execution_count": null,
      "metadata": {
        "id": "FC8NzeYfU0oK"
      },
      "outputs": [],
      "source": [
        "query = \"\"\"select A.team AS team_A, B.team AS team_B, A.goalsFor, A.goalsAgainst\n",
        "            FROM {}.world_cup.teams as A, {}.world_cup.teams as B\n",
        "            where A.team < B.team\n",
        "            and A.goalsFor = B.goalsFor\n",
        "            and A.goalsAgainst = B.goalsAgainst\"\"\".format(PROJECT_NAME, PROJECT_NAME)\n",
        "query_job = client.query(query)\n",
        "query_job.to_dataframe().head(10)"
      ]
    },
    {
      "cell_type": "markdown",
      "metadata": {
        "id": "EGO8Z8IgU0oK"
      },
      "source": [
        "*2) Find all teams with a ranking below 30 where no player has made more than 150 passes. Return the team's name and ranking.*\n",
        "\n",
        "**Hint #1**: Consider using the HAVING keyword.\n",
        "\n",
        "**Hint #2**: You may also want to look up nested queries."
      ]
    },
    {
      "cell_type": "code",
      "execution_count": null,
      "metadata": {
        "id": "N2wUEys8U0oK"
      },
      "outputs": [],
      "source": [
        "# Your query goes here\n",
        "query = \"\"\" SELECT *\n",
        "            FROM (\n",
        "                select team, min(ranking) as ranking, max(passes) as max_passes\n",
        "                from {}.world_cup.players_and_teams\n",
        "                group by team\n",
        "            )\n",
        "            where ranking < 30\n",
        "            and max_passes <= 150\n",
        "            \"\"\".format(PROJECT_NAME)\n",
        "query_job = client.query(query)\n",
        "query_job.to_dataframe().head(10)"
      ]
    },
    {
      "cell_type": "markdown",
      "metadata": {
        "id": "2ZwOYiftU0oK"
      },
      "source": [
        "*3) Which team has the highest ratio of goalsFor to goalsAgainst?*"
      ]
    },
    {
      "cell_type": "code",
      "execution_count": null,
      "metadata": {
        "id": "lwxBWYGPU0oK"
      },
      "outputs": [],
      "source": [
        "# Your query goes here\n",
        "query = \"\"\"select team, goalsFor, goalsAgainst, (1.0 * goalsFor / goalsAgainst) as ratio\n",
        "            FROM {}.world_cup.teams\n",
        "            order by ratio desc\n",
        "            limit 1\"\"\".format(PROJECT_NAME)\n",
        "query_job = client.query(query)\n",
        "query_job.to_dataframe().head(10)"
      ]
    },
    {
      "cell_type": "markdown",
      "metadata": {
        "id": "BsH0CIrmU0oL"
      },
      "source": [
        "*4) Find all teams whose defenders averaged more than 150 passes. Return the team and average number of passes by defenders, in descending order of average passes.*"
      ]
    },
    {
      "cell_type": "code",
      "execution_count": null,
      "metadata": {
        "id": "Oh15ljLlU0oL"
      },
      "outputs": [],
      "source": [
        "# Your query goes here\n",
        "query = \"\"\"select team, avg(passes) as avg_passes\n",
        "            FROM {}.world_cup.players_and_teams\n",
        "            where position like \"defender\"\n",
        "            group by team\n",
        "            having avg_passes > 150\n",
        "            order by avg_passes desc\"\"\".format(PROJECT_NAME)\n",
        "query_job = client.query(query)\n",
        "query_job.to_dataframe().head(10)"
      ]
    },
    {
      "cell_type": "markdown",
      "metadata": {
        "id": "85dwOrsBVua_"
      },
      "source": [
        "## Exercise 2 - Google Cloud datasets"
      ]
    },
    {
      "cell_type": "markdown",
      "metadata": {
        "id": "Re8nfyykRk6M"
      },
      "source": [
        "Let's build some queries for the `accidents_2016` data from the NHTSA traffic facilities dataset, which is publicly available on Google BigQuery."
      ]
    },
    {
      "cell_type": "markdown",
      "metadata": {
        "id": "b37ta8MpWZmS"
      },
      "source": [
        "### Setting up"
      ]
    },
    {
      "cell_type": "code",
      "execution_count": null,
      "metadata": {
        "id": "C-8-c1GtRk6N"
      },
      "outputs": [],
      "source": [
        "# Create a reference to the traffic facilities dataset\n",
        "traffic_ref = client.dataset(\"nhtsa_traffic_fatalities\", project=\"bigquery-public-data\")\n",
        "\n",
        "# API request - fetch the dataset\n",
        "traffic_dataset = client.get_dataset(traffic_ref)"
      ]
    },
    {
      "cell_type": "code",
      "execution_count": null,
      "metadata": {
        "id": "_FHDdK9URk6N"
      },
      "outputs": [],
      "source": [
        "# Construct a reference to the \"accident_2016\" table\n",
        "accidents_ref = traffic_ref.table(\"accident_2016\")\n",
        "\n",
        "# API request - fetch the table\n",
        "accidents_table = client.get_table(accidents_ref)"
      ]
    },
    {
      "cell_type": "code",
      "execution_count": null,
      "metadata": {
        "id": "AEVyKb8URk6O"
      },
      "outputs": [],
      "source": [
        "# Display schema\n",
        "accidents_table.schema"
      ]
    },
    {
      "cell_type": "code",
      "execution_count": null,
      "metadata": {
        "id": "WnURKa4VRk6O"
      },
      "outputs": [],
      "source": [
        "# Show a preview of the \"accident_2016\" table\n",
        "client.list_rows(accidents_table, max_results=5).to_dataframe()"
      ]
    },
    {
      "cell_type": "markdown",
      "metadata": {
        "id": "-A3zzWTBWbv1"
      },
      "source": [
        "### Questions"
      ]
    },
    {
      "cell_type": "markdown",
      "metadata": {
        "id": "gY2OVZPSXcAH"
      },
      "source": [
        "You can access the table using `from bigquery-public-data.nhtsa_traffic_fatalities.accident_2016`."
      ]
    },
    {
      "cell_type": "markdown",
      "metadata": {
        "id": "eQdusmzARk6P"
      },
      "source": [
        "1) How many crashes happened in each month of 2016?"
      ]
    },
    {
      "cell_type": "code",
      "execution_count": null,
      "metadata": {
        "id": "DHtKtONkRk6P"
      },
      "outputs": [],
      "source": [
        "q3 = \"\"\"\n",
        "select month_of_crash, count(*) as count\n",
        "from bigquery-public-data.nhtsa_traffic_fatalities.accident_2016\n",
        "group by month_of_crash\n",
        "order by month_of_crash\n",
        "\"\"\"\n",
        "\n",
        "query_job_3 = client.query(q3)\n",
        "query_job_3.to_dataframe()"
      ]
    },
    {
      "cell_type": "markdown",
      "metadata": {
        "id": "3v8No6OGRk6Q"
      },
      "source": [
        "2) Let's call the accidents involving more than 5 motor vehichles in transport involved as \"massive_crash\", and all others as \"small crash\". Return the number of each type of crash for each weather condition.\n",
        "\n",
        "**Hint**: Use columns `atmospheric_conditions_1_name` and `number_of_motor_vehicles_in_transport_mvit`."
      ]
    },
    {
      "cell_type": "code",
      "execution_count": null,
      "metadata": {
        "id": "vGPxb7GZRk6Q"
      },
      "outputs": [],
      "source": [
        "q4 = \"\"\"\n",
        "select\n",
        "  atmospheric_conditions_1_name,\n",
        "  (case when number_of_motor_vehicles_in_transport_mvit > 5 then \"massive_crash\"\n",
        "  else \"small_crash\" end) as crash_type,\n",
        "  count(*) as nb_crashes\n",
        "from bigquery-public-data.nhtsa_traffic_fatalities.accident_2016\n",
        "group by atmospheric_conditions_1_name, crash_type\n",
        "order by atmospheric_conditions_1_name\n",
        "\"\"\"\n",
        "\n",
        "query_job_4 = client.query(q4)\n",
        "query_job_4.to_dataframe()"
      ]
    },
    {
      "cell_type": "markdown",
      "metadata": {
        "id": "7R3M8Lx_Rk6R"
      },
      "source": [
        "3) Find the top 5 states with the highest number of drunk drivers involved in accidents."
      ]
    },
    {
      "cell_type": "code",
      "execution_count": null,
      "metadata": {
        "id": "z33gX9C9Rk6R"
      },
      "outputs": [],
      "source": [
        "q5 = \"\"\"\n",
        "select state_name, sum(number_of_drunk_drivers) as nb_drunk_drivers\n",
        "from bigquery-public-data.nhtsa_traffic_fatalities.accident_2016\n",
        "group by state_name\n",
        "order by nb_drunk_drivers desc\n",
        "limit 5\n",
        "\"\"\"\n",
        "\n",
        "query_job_5 = client.query(q5)\n",
        "query_job_5.to_dataframe()"
      ]
    },
    {
      "cell_type": "markdown",
      "metadata": {
        "id": "cVk4DC8IRk6R"
      },
      "source": [
        "4) Let's find out the states where using a cell phone is a major cause of accidents. Return the first 5 state names along with the number of crashes where the driver was distracted \"while manipulating cellular phone\".\n",
        "\n",
        "**Hint**: You need to join the `distract_2016` and `accident_2016` tables."
      ]
    },
    {
      "cell_type": "code",
      "execution_count": null,
      "metadata": {
        "id": "8LgNNDeaRk6S"
      },
      "outputs": [],
      "source": [
        "q6 = \"\"\"\n",
        "select\n",
        "  count(distract.driver_distracted_by) as nb_accidents,\n",
        "  accident.state_name\n",
        "from bigquery-public-data.nhtsa_traffic_fatalities.distract_2016 distract\n",
        "join bigquery-public-data.nhtsa_traffic_fatalities.accident_2016 accident\n",
        "on distract.consecutive_number = accident.consecutive_number\n",
        "where driver_distracted_by = 6\n",
        "group by state_name\n",
        "order by nb_accidents desc\n",
        "limit 5\n",
        "\"\"\"\n",
        "\n",
        "query_job_6 = client.query(q6)\n",
        "query_job_6.to_dataframe()"
      ]
    },
    {
      "cell_type": "code",
      "execution_count": null,
      "metadata": {
        "id": "1aIkiCzBU0oN"
      },
      "outputs": [],
      "source": [
        "q6_1 = \"\"\"\n",
        "with\n",
        "  join_acc_dist as (\n",
        "    select distract.driver_distracted_by, accident.state_name\n",
        "    from bigquery-public-data.nhtsa_traffic_fatalities.distract_2016 distract\n",
        "    join bigquery-public-data.nhtsa_traffic_fatalities.accident_2016 accident\n",
        "    on distract.consecutive_number = accident.consecutive_number\n",
        "    )\n",
        "select count(driver_distracted_by) as nb_accidents, state_name from join_acc_dist\n",
        "where driver_distracted_by = 6\n",
        "group by state_name\n",
        "order by nb_accidents desc\n",
        "limit 5\n",
        "\"\"\"\n",
        "\n",
        "query_job_6_1 = client.query(q6_1)\n",
        "query_job_6_1.to_dataframe()"
      ]
    },
    {
      "cell_type": "markdown",
      "metadata": {
        "id": "_Wp_DeViRk6T"
      },
      "source": [
        "5) Sometimes, a \"live animal\" is a reason that a driver maneuvers and causes an accident. In which months of the year do such accidents happen the most? Return the month and the number of accidents.\n",
        "\n",
        "**Hint**: You need to join the `maneuver_2016` and `accident_2016` tables."
      ]
    },
    {
      "cell_type": "code",
      "execution_count": null,
      "metadata": {
        "id": "ShkYLPypRk6U"
      },
      "outputs": [],
      "source": [
        "q7 = \"\"\"\n",
        "select\n",
        "  accident.month_of_crash,\n",
        "  count(maneuver.driver_maneuvered_to_avoid) as nb_accidents\n",
        "from bigquery-public-data.nhtsa_traffic_fatalities.maneuver_2016 maneuver\n",
        "join bigquery-public-data.nhtsa_traffic_fatalities.accident_2016 accident\n",
        "on maneuver.consecutive_number = maneuver.consecutive_number\n",
        "where driver_maneuvered_to_avoid = 3\n",
        "group by month_of_crash\n",
        "order by nb_accidents desc\n",
        "\"\"\"\n",
        "\n",
        "query_job_7 = client.query(q7)\n",
        "query_job_7.to_dataframe()"
      ]
    },
    {
      "cell_type": "markdown",
      "metadata": {
        "id": "3q6lYuBuRk6V"
      },
      "source": [
        "6) In the state of Alaska, in which months do \"poor road conditions\" cause the most accidents? Return the month and the number of accidents.\n",
        "\n",
        "**Hint**: Again, you will need the `maneuver_2016` table."
      ]
    },
    {
      "cell_type": "code",
      "execution_count": null,
      "metadata": {
        "id": "ZpK9T-gXRk6V"
      },
      "outputs": [],
      "source": [
        "q8 = \"\"\"\n",
        "select\n",
        "  accident.month_of_crash,\n",
        "  count(maneuver.driver_maneuvered_to_avoid) as nb_accidents\n",
        "from bigquery-public-data.nhtsa_traffic_fatalities.maneuver_2016 maneuver\n",
        "join bigquery-public-data.nhtsa_traffic_fatalities.accident_2016 accident\n",
        "on maneuver.consecutive_number = maneuver.consecutive_number\n",
        "where driver_maneuvered_to_avoid = 3\n",
        "  and accident.state_name = \"Alaska\"\n",
        "group by month_of_crash\n",
        "order by nb_accidents desc\n",
        "\"\"\"\n",
        "\n",
        "query_job_8 = client.query(q8)\n",
        "query_job_8.to_dataframe()"
      ]
    },
    {
      "cell_type": "markdown",
      "metadata": {
        "id": "t2NACaDJRk6W"
      },
      "source": [
        "7) Sometimes, a factor of the accident is that the vehicle has a problem with the \"brake system\". Filter the accidents with this factor and return the `driver_maneuvered_to_avoid_name` column along with the related number of accidents.\n",
        "\n",
        "**Hint**: You need to join the `maneuver_2016` and `factor_2016` tables."
      ]
    },
    {
      "cell_type": "code",
      "execution_count": null,
      "metadata": {
        "id": "Gneo-KcdRk6W"
      },
      "outputs": [],
      "source": [
        "q9 = \"\"\"\n",
        "select\n",
        "  maneuver.driver_maneuvered_to_avoid_name,\n",
        "  count(maneuver.consecutive_number) as num_incidents\n",
        "from bigquery-public-data.nhtsa_traffic_fatalities.maneuver_2016 maneuver\n",
        "join bigquery-public-data.nhtsa_traffic_fatalities.factor_2016 factor\n",
        "on maneuver.consecutive_number = factor.consecutive_number\n",
        "where factor.contributing_circumstances_motor_vehicle = 2\n",
        "group by driver_maneuvered_to_avoid_name\n",
        "order by num_incidents desc\n",
        "\"\"\"\n",
        "\n",
        "query_job_9 = client.query(q9)\n",
        "query_job_9.to_dataframe()"
      ]
    },
    {
      "cell_type": "markdown",
      "metadata": {
        "id": "RVlEscq_Rk6X"
      },
      "source": [
        "8) Sometimes, a non-motorist is involved in a crash. For each state, find the number of crashes in which an \"inattentive\" person was involved. Return the state name and number of crashes.\n",
        "\n",
        "**Hint**: You need to join the `nmcrash_2016` and `accident_2016` tables."
      ]
    },
    {
      "cell_type": "code",
      "execution_count": null,
      "metadata": {
        "id": "c2a9JEDwRk6X"
      },
      "outputs": [],
      "source": [
        "q10 = \"\"\"\n",
        "select\n",
        "  accident.state_name,\n",
        "  count(nmcrash.consecutive_number) as nb_accidents\n",
        "from bigquery-public-data.nhtsa_traffic_fatalities.nmcrash_2016 nmcrash\n",
        "join bigquery-public-data.nhtsa_traffic_fatalities.accident_2016 accident\n",
        "on nmcrash.consecutive_number = accident.consecutive_number\n",
        "where nmcrash.non_motorist_contributing_circumstances = 6\n",
        "group by state_name\n",
        "order by nb_accidents desc\n",
        "\"\"\"\n",
        "\n",
        "query_job_10 = client.query(q10)\n",
        "query_job_10.to_dataframe()"
      ]
    }
  ],
  "metadata": {
    "colab": {
      "name": "week_02_exercises_big_query.ipynb",
      "provenance": [],
      "include_colab_link": true
    },
    "kernelspec": {
      "display_name": "base",
      "language": "python",
      "name": "python3"
    },
    "language_info": {
      "codemirror_mode": {
        "name": "ipython",
        "version": 3
      },
      "file_extension": ".py",
      "mimetype": "text/x-python",
      "name": "python",
      "nbconvert_exporter": "python",
      "pygments_lexer": "ipython3",
      "version": "3.9.15"
    },
    "vscode": {
      "interpreter": {
        "hash": "b0cc462c96df3621bcc58e01fadcdf9264a069c5c4bbf07201077bb349d3c6bf"
      }
    }
  },
  "nbformat": 4,
  "nbformat_minor": 0
}