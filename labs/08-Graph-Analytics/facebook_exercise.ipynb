{
 "cells": [
  {
   "cell_type": "markdown",
   "id": "c0371f09",
   "metadata": {},
   "source": [
    "### Answer the following questions exploring the Facebook dataset with NetworkX:"
   ]
  },
  {
   "cell_type": "code",
   "execution_count": null,
   "id": "921d5c53",
   "metadata": {},
   "outputs": [],
   "source": [
    "import networkx as nx\n",
    "import numpy as np\n",
    "import pandas as pd\n",
    "from operator import itemgetter\n",
    "import matplotlib.pyplot as plt\n",
    "import collections\n",
    "from community import community_louvain\n",
    "import itertools\n",
    "%matplotlib inline\n",
    "\n",
    "import warnings\n",
    "warnings.filterwarnings('ignore')"
   ]
  },
  {
   "cell_type": "markdown",
   "id": "b3b5ada1",
   "metadata": {},
   "source": [
    "- Visualize the dataset using networkX (consider using nx.spring_layout)"
   ]
  },
  {
   "cell_type": "code",
   "execution_count": null,
   "id": "3aa84841",
   "metadata": {},
   "outputs": [],
   "source": [
    "#### YOUR CODE #####"
   ]
  },
  {
   "cell_type": "markdown",
   "id": "87da5090",
   "metadata": {},
   "source": [
    "- What’s the number of nodes? and edges?"
   ]
  },
  {
   "cell_type": "code",
   "execution_count": null,
   "id": "03d3efdc",
   "metadata": {},
   "outputs": [],
   "source": [
    "#### YOUR CODE #####"
   ]
  },
  {
   "cell_type": "markdown",
   "id": "7508fa9a",
   "metadata": {},
   "source": [
    "- What’s the average degree?\n"
   ]
  },
  {
   "cell_type": "code",
   "execution_count": null,
   "id": "9b03a579",
   "metadata": {},
   "outputs": [],
   "source": [
    "#### YOUR CODE #####"
   ]
  },
  {
   "cell_type": "markdown",
   "id": "e764aec5",
   "metadata": {},
   "source": [
    "- What’s the length of shortest path between nodes 0 and 42?\n"
   ]
  },
  {
   "cell_type": "code",
   "execution_count": null,
   "id": "e87d76e6",
   "metadata": {},
   "outputs": [],
   "source": [
    "#### YOUR CODE #####"
   ]
  },
  {
   "cell_type": "markdown",
   "id": "d9b996d0",
   "metadata": {},
   "source": [
    "- The [diameter](https://en.wikipedia.org/wiki/Distance_(graph_theory)#:~:text=To%20find%20the%20diameter%20of,the%20diameter%20of%20the%20graph.) of a graphs is the maximum number of nodes you need to traverse to connect from one node to any other one. Compute the diameter of the graph ([Curiosity: 6 degrees of separation theory](https://en.wikipedia.org/wiki/Six_degrees_of_separation)). \n"
   ]
  },
  {
   "cell_type": "code",
   "execution_count": null,
   "id": "2eb1baec",
   "metadata": {},
   "outputs": [],
   "source": [
    "#### YOUR CODE #####"
   ]
  },
  {
   "cell_type": "markdown",
   "id": "fbab7362",
   "metadata": {},
   "source": [
    "- Compute the average path length.\n"
   ]
  },
  {
   "cell_type": "code",
   "execution_count": null,
   "id": "b164fc85",
   "metadata": {},
   "outputs": [],
   "source": [
    "#### YOUR CODE #####"
   ]
  },
  {
   "cell_type": "markdown",
   "id": "c65640dd",
   "metadata": {},
   "source": [
    "- Plot an histogram of the distribution of shortest path lengths.\n"
   ]
  },
  {
   "cell_type": "code",
   "execution_count": null,
   "id": "ed1be251",
   "metadata": {},
   "outputs": [],
   "source": [
    "#### YOUR CODE #####"
   ]
  },
  {
   "cell_type": "markdown",
   "id": "a1cd2099",
   "metadata": {},
   "source": [
    "- Compute the density of the graph.\n"
   ]
  },
  {
   "cell_type": "code",
   "execution_count": null,
   "id": "e6c8e324",
   "metadata": {},
   "outputs": [],
   "source": [
    "#### YOUR CODE #####"
   ]
  },
  {
   "cell_type": "markdown",
   "id": "6efd3868",
   "metadata": {},
   "source": [
    "- Compute the number of connected components.\n"
   ]
  },
  {
   "cell_type": "code",
   "execution_count": null,
   "id": "05aed238",
   "metadata": {},
   "outputs": [],
   "source": [
    "#### YOUR CODE #####"
   ]
  },
  {
   "cell_type": "markdown",
   "id": "c0172ef7",
   "metadata": {},
   "source": [
    "- Compute the nodes with the highest degree centralities. How many neighbors do they have?\n"
   ]
  },
  {
   "cell_type": "code",
   "execution_count": null,
   "id": "35313a9f",
   "metadata": {},
   "outputs": [],
   "source": [
    "#### YOUR CODE #####"
   ]
  },
  {
   "cell_type": "markdown",
   "id": "345f789c",
   "metadata": {},
   "source": [
    "- Plot the histogram of degrees centralities\n"
   ]
  },
  {
   "cell_type": "code",
   "execution_count": null,
   "id": "a343444d",
   "metadata": {},
   "outputs": [],
   "source": [
    "#### YOUR CODE #####"
   ]
  },
  {
   "cell_type": "markdown",
   "id": "4c4e5d9b",
   "metadata": {},
   "source": [
    "- Draw the network using networkX, with the size of the nodes depending on their degree centrality\n"
   ]
  },
  {
   "cell_type": "code",
   "execution_count": null,
   "id": "871067ed",
   "metadata": {},
   "outputs": [],
   "source": [
    "#### YOUR CODE #####"
   ]
  },
  {
   "cell_type": "markdown",
   "id": "a733fce4",
   "metadata": {},
   "source": [
    "- Compute the nodes with the highest betweeness centrality, plot the histogram, and the graph with the sizes proportional to their values of betweeness centrality\n"
   ]
  },
  {
   "cell_type": "code",
   "execution_count": null,
   "id": "288acb8d",
   "metadata": {},
   "outputs": [],
   "source": [
    "#### YOUR CODE #####"
   ]
  },
  {
   "cell_type": "markdown",
   "id": "27ddfab0",
   "metadata": {},
   "source": [
    "- Do the same with closeness centrality\n"
   ]
  },
  {
   "cell_type": "code",
   "execution_count": null,
   "id": "467d6e3b",
   "metadata": {},
   "outputs": [],
   "source": [
    "#### YOUR CODE #####"
   ]
  },
  {
   "cell_type": "markdown",
   "id": "942752f8",
   "metadata": {},
   "source": [
    "- The clustering coefficient of a node v is defined as the probability that two randomly selected friends of v are friends with each other. As a result, the average clustering coefficient is the average of clustering coefficients of all the nodes. The closer the average clustering coefficient is to 1, the more complete the graph will be because there’s just one giant component. Compute the average clustering coefficient and plot the histogram. \n"
   ]
  },
  {
   "cell_type": "code",
   "execution_count": null,
   "id": "7d9b1a0b",
   "metadata": {},
   "outputs": [],
   "source": [
    "#### YOUR CODE #####"
   ]
  },
  {
   "cell_type": "markdown",
   "id": "2e0130bb",
   "metadata": {},
   "source": [
    "- Choose a method for community detection, apply it to the graph and plot the nodes of each community with a different color. "
   ]
  },
  {
   "cell_type": "code",
   "execution_count": null,
   "id": "3ba7e7fe",
   "metadata": {},
   "outputs": [],
   "source": [
    "#### YOUR CODE #####"
   ]
  }
 ],
 "metadata": {
  "kernelspec": {
   "display_name": "venv",
   "language": "python",
   "name": "python3"
  },
  "language_info": {
   "name": "python",
   "version": "3.12.4"
  }
 },
 "nbformat": 4,
 "nbformat_minor": 5
}
