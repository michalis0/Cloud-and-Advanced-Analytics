{
 "cells": [
  {
   "attachments": {},
   "cell_type": "markdown",
   "metadata": {},
   "source": [
    "<a target=\"_blank\" href=\"https://colab.research.google.com/github/michalis0/Cloud-and-Advanced-Analytics/blob/main/labs/week_11/nx_tutorial_text.ipynb\">\n",
    "  <img src=\"https://colab.research.google.com/assets/colab-badge.svg\" alt=\"Open In Colab\"/>\n",
    "</a>"
   ]
  },
  {
   "attachments": {},
   "cell_type": "markdown",
   "metadata": {},
   "source": [
    "## Installation\n",
    "\n",
    "```\n",
    "pip install networkx python-louvain\n",
    "```"
   ]
  },
  {
   "cell_type": "code",
   "execution_count": null,
   "metadata": {},
   "outputs": [],
   "source": [
    "# Dependendencies\n",
    "# this package will be used for community detection\n",
    "!pip install networkx python-louvain"
   ]
  },
  {
   "cell_type": "code",
   "execution_count": null,
   "metadata": {},
   "outputs": [],
   "source": [
    "import networkx as nx\n",
    "import numpy as np\n",
    "import pandas as pd\n",
    "from operator import itemgetter\n",
    "import matplotlib.pyplot as plt\n",
    "import collections\n",
    "from community import community_louvain\n",
    "import itertools\n",
    "%matplotlib inline\n",
    "\n",
    "import warnings\n",
    "warnings.filterwarnings('ignore')"
   ]
  },
  {
   "cell_type": "code",
   "execution_count": null,
   "metadata": {},
   "outputs": [],
   "source": [
    "nx.__version__"
   ]
  },
  {
   "attachments": {},
   "cell_type": "markdown",
   "metadata": {},
   "source": [
    "## Introducting Networkx"
   ]
  },
  {
   "attachments": {},
   "cell_type": "markdown",
   "metadata": {},
   "source": [
    "NetworkX is a Python package for the creation, manipulation, and study of the structure, dynamics, and functions of complex networks.\n",
    "\n",
    "Using networkx API you are able to easily build networks. Moreover, NetworkX has a broad range of example networks that you can load with just a function call ([more examples here](https://networkx.github.io/documentation/stable/auto_examples/index.html)).\n",
    "\n",
    "\n",
    "Let's start by building a simple **undirected graph**"
   ]
  },
  {
   "attachments": {},
   "cell_type": "markdown",
   "metadata": {},
   "source": [
    "### Creating and Visualizing a simple Undirected Graph"
   ]
  },
  {
   "cell_type": "code",
   "execution_count": null,
   "metadata": {},
   "outputs": [],
   "source": [
    "G = nx.Graph() # for a directed graph use nx.DiGraph()\n",
    "G.add_node(1)\n",
    "G.add_nodes_from(range(2,10))  # add multiple nodes at once\n",
    "\n",
    "# add edges \n",
    "G.add_edge(1,2)\n",
    "edges = [(2,3), (3,4), (4,5), (5,6), (6,7), (7,8), (8,9), (9,1)]\n",
    "G.add_edges_from(edges)\n",
    "print(G.nodes())\n",
    "print(G.is_directed())"
   ]
  },
  {
   "cell_type": "code",
   "execution_count": null,
   "metadata": {},
   "outputs": [],
   "source": [
    "G.edges()"
   ]
  },
  {
   "attachments": {},
   "cell_type": "markdown",
   "metadata": {},
   "source": [
    "To get a quick overview on the properties of the graph you can use the `nx.degree()` method."
   ]
  },
  {
   "cell_type": "code",
   "execution_count": null,
   "metadata": {},
   "outputs": [],
   "source": [
    "print(nx.degree(G))"
   ]
  },
  {
   "attachments": {},
   "cell_type": "markdown",
   "metadata": {},
   "source": [
    "The library also has a built-in plotting engine (based on matplotlib). Note that the `draw_spring` method plots the graph based on the \"spring\" layout. For more layouts checkout [this](https://networkx.github.io/documentation/stable/reference/drawing.html#module-networkx.drawing.layout) page."
   ]
  },
  {
   "cell_type": "code",
   "execution_count": null,
   "metadata": {},
   "outputs": [],
   "source": [
    "nx.draw_spring(G, with_labels=True,  alpha = 0.8)"
   ]
  },
  {
   "cell_type": "code",
   "execution_count": null,
   "metadata": {},
   "outputs": [],
   "source": [
    "nx.draw_circular(G, with_labels=True)"
   ]
  },
  {
   "cell_type": "code",
   "execution_count": null,
   "metadata": {},
   "outputs": [],
   "source": [
    "# Helper function for plotting the degree distribution of a Graph\n",
    "def plot_degree_distribution(G):\n",
    "    degrees = {}\n",
    "    for node in G.nodes():\n",
    "        degree = G.degree(node)\n",
    "        if degree not in degrees:\n",
    "            degrees[degree] = 0\n",
    "        degrees[degree] += 1\n",
    "    sorted_degree = sorted(degrees.items())\n",
    "    deg = [k for (k,v) in sorted_degree]\n",
    "    cnt = [v for (k,v) in sorted_degree]\n",
    "    fig, ax = plt.subplots()\n",
    "    plt.bar(deg, cnt, width=0.80, color='b')\n",
    "    plt.title(\"Degree Distribution\")\n",
    "    plt.ylabel(\"Frequency\")\n",
    "    plt.xlabel(\"Degree\")\n",
    "    ax.set_xticks([d+0.05 for d in deg])\n",
    "    ax.set_xticklabels(deg)"
   ]
  },
  {
   "cell_type": "code",
   "execution_count": null,
   "metadata": {},
   "outputs": [],
   "source": [
    "# Helper function for printing various graph properties\n",
    "def describe_graph(G):\n",
    "    print(nx.degree(G))\n",
    "    if nx.is_connected(G):\n",
    "        print(\"Avg. Shortest Path Length: %.4f\" %nx.average_shortest_path_length(G))\n",
    "        print(\"Diameter: %.4f\" %nx.diameter(G)) # Longest shortest path\n",
    "    else:\n",
    "        print(\"Graph is not connected\")\n",
    "        print(\"Diameter and Avg shortest path length are not defined!\")\n",
    "#     print(\"Sparsity: %.4f\" %nx.density(G))  # #edges/#edges-complete-graph\n",
    "#     # #closed-triplets(3*#triangles)/#all-triplets\n",
    "#     print(\"Global clustering coefficient aka Transitivity: %.4f\" %nx.transitivity(G))"
   ]
  },
  {
   "cell_type": "code",
   "execution_count": null,
   "metadata": {},
   "outputs": [],
   "source": [
    "# Helper function for visualizing the graph\n",
    "def visualize_graph(G, with_labels=True, k=None, alpha=1.0, node_shape='o'):\n",
    "    #nx.draw_spring(G, with_labels=with_labels, alpha = alpha)\n",
    "    pos = nx.spring_layout(G, k=k)\n",
    "    if with_labels:\n",
    "        lab = nx.draw_networkx_labels(G, pos, labels=dict([(n, n) for n in G.nodes()]))\n",
    "    ec = nx.draw_networkx_edges(G, pos, alpha=alpha)\n",
    "    nc = nx.draw_networkx_nodes(G, pos, nodelist=G.nodes(), node_color='g', node_shape=node_shape)\n",
    "    # plt.axis('off')"
   ]
  },
  {
   "attachments": {},
   "cell_type": "markdown",
   "metadata": {},
   "source": [
    "### Creating and Visualizing an Erdős–Rényi graph\n",
    "Erdos-Renyi graph is a random graph. It is built by choosing each of the possible edges with a probability $p$."
   ]
  },
  {
   "cell_type": "code",
   "execution_count": null,
   "metadata": {
    "scrolled": false
   },
   "outputs": [],
   "source": [
    "n = 10  # 10 nodes\n",
    "p = 0.5 # probability of edge creation\n",
    "\n",
    "erG = nx.random_graphs.erdos_renyi_graph(n=n, p=p)\n",
    "\n",
    "describe_graph(erG)\n",
    "visualize_graph(erG, k=0.05, alpha=0.8)\n",
    "plot_degree_distribution(erG)"
   ]
  },
  {
   "cell_type": "code",
   "execution_count": null,
   "metadata": {},
   "outputs": [],
   "source": [
    "# adjacency matrix of the graph\n",
    "nx.adjacency_matrix(erG).todense()"
   ]
  },
  {
   "attachments": {},
   "cell_type": "markdown",
   "metadata": {},
   "source": [
    "You can also compute page ranks of the nodes in a graph"
   ]
  },
  {
   "cell_type": "code",
   "execution_count": null,
   "metadata": {},
   "outputs": [],
   "source": [
    "num_nodes = 4\n",
    "# Create a new directed graph\n",
    "G = nx.DiGraph()\n",
    "G.add_nodes_from(range(5))\n",
    "G.add_edges_from([(4,2), (3,2), (1,2), (0,3), (4,0)])\n",
    "nx.draw(G, with_labels = True)\n",
    "\n",
    "# Get the PageRank\n",
    "pr = nx.pagerank(G, alpha=0.8)\n",
    "pr"
   ]
  },
  {
   "attachments": {},
   "cell_type": "markdown",
   "metadata": {},
   "source": [
    "## Exercise"
   ]
  },
  {
   "attachments": {},
   "cell_type": "markdown",
   "metadata": {},
   "source": [
    "We want to build a graph from the folowing adjacency matrix. Before converting the matrix to a networkx graph, can you say whether this adjacency matrix belong to a directed or undirected graph?"
   ]
  },
  {
   "cell_type": "code",
   "execution_count": null,
   "metadata": {},
   "outputs": [],
   "source": [
    "adj_mat = np.array([[0, 0, 1, 1, 1, 0, 1, 0, 1, 1],\n",
    "                    [0, 0, 1, 1, 1, 1, 0, 1, 1, 0],\n",
    "                    [1, 1, 0, 0, 0, 0, 0, 0, 0, 0],\n",
    "                    [1, 1, 0, 0, 0, 0, 0, 1, 0, 0],\n",
    "                    [1, 1, 0, 0, 0, 1, 1, 0, 0, 0],\n",
    "                    [0, 1, 0, 0, 1, 0, 0, 0, 0, 0],\n",
    "                    [1, 0, 0, 0, 1, 0, 0, 0, 0, 0],\n",
    "                    [0, 1, 0, 1, 0, 0, 0, 0, 0, 1],\n",
    "                    [1, 1, 0, 0, 0, 0, 0, 0, 0, 0],\n",
    "                    [1, 0, 0, 0, 0, 0, 0, 1, 0, 0]])"
   ]
  },
  {
   "cell_type": "code",
   "execution_count": null,
   "metadata": {},
   "outputs": [],
   "source": [
    "# compute whether the graph is directed only with numpy operations.\n",
    "# reminder: to transpose matrix a in numpy: `a.T`\n",
    "\n",
    "#####YOUR CODE#####\n"
   ]
  },
  {
   "attachments": {},
   "cell_type": "markdown",
   "metadata": {},
   "source": [
    "Now build the networkx graph from the above matrix and check if you answer to the above question is correct."
   ]
  },
  {
   "cell_type": "code",
   "execution_count": null,
   "metadata": {},
   "outputs": [],
   "source": [
    "# Build the nx graph\n",
    "\n",
    "#### YOUR CODE ####\n",
    "#G_ex = nx.from_numpy_array()\n",
    "\n",
    "# check if the graph is undirected or directed\n",
    "#### YOUR CODE ####\n"
   ]
  },
  {
   "attachments": {},
   "cell_type": "markdown",
   "metadata": {},
   "source": [
    "Another feature that characterizes the structure and position of a node in a graph is called __clustering coefficient__. This coefficient measures how connected the neighbors of a node are.\n",
    "\n",
    "Compute the clustering coefficient for nodes 4 and 6?"
   ]
  },
  {
   "cell_type": "code",
   "execution_count": null,
   "metadata": {},
   "outputs": [],
   "source": [
    "# clustering coefficient\n",
    "\n",
    "#### YOUR CODE #####\n"
   ]
  },
  {
   "attachments": {},
   "cell_type": "markdown",
   "metadata": {},
   "source": [
    "One interpretation of clustering coefficient is that it counts the number of traingles that a node is involved in. In other words for node a:\n",
    "\n",
    "$$ clustering(a) = \\frac{\\# \\text{number of distinct triagles that a is a corner of}}{C_2^{\\# \\text{neighbors of a}}} $$\n",
    "where $C_k^n$ is choice k elements from n elements.\n",
    "\n",
    "Draw the graph `G_ex` and try to justify the value of the clustering coefficient for nodes 4 and 6 according to the above interpretation."
   ]
  },
  {
   "cell_type": "code",
   "execution_count": null,
   "metadata": {},
   "outputs": [],
   "source": [
    "# draw the network\n",
    "#### YOUR CODE ####\n"
   ]
  },
  {
   "attachments": {},
   "cell_type": "markdown",
   "metadata": {},
   "source": [
    "### Creating and Visualizing the Zachary's Karate Club Network\n",
    "Zachary's karate club is a social network of a university karate club, described in the paper \"An Information Flow Model for Conflict and Fission in Small Groups\" by Wayne W. Zachary. The network captures 34 members of a karate club, documenting links between pairs of members who interacted outside the club. During the study a conflict arose between the administrator \"John A\" and instructor \"Mr. Hi\" (pseudonyms), which led to the split of the club into two. Half of the members formed a new club around Mr. Hi; members from the other part found a new instructor or gave up karate (description from [wikipedia](https://en.wikipedia.org/wiki/Zachary%27s_karate_club))"
   ]
  },
  {
   "cell_type": "code",
   "execution_count": null,
   "metadata": {
    "scrolled": false
   },
   "outputs": [],
   "source": [
    "karateG = nx.karate_club_graph()\n",
    "describe_graph(karateG)\n",
    "visualize_graph(karateG, k=0.05, alpha=0.8)\n",
    "plot_degree_distribution(karateG)"
   ]
  },
  {
   "cell_type": "code",
   "execution_count": null,
   "metadata": {
    "scrolled": true
   },
   "outputs": [],
   "source": [
    "# Draw the graph with a circular layout \n",
    "nx.draw_circular(karateG, with_labels=True,  node_color='g', alpha = 0.8)"
   ]
  },
  {
   "attachments": {},
   "cell_type": "markdown",
   "metadata": {},
   "source": [
    "### Connected Components\n",
    "From the above visualization, it is obvious that this graph is connected. We can also check this using the `is_connected()` method."
   ]
  },
  {
   "cell_type": "code",
   "execution_count": null,
   "metadata": {},
   "outputs": [],
   "source": [
    "print(nx.is_connected(karateG))\n",
    "comp = list(nx.connected_components(karateG))\n",
    "print('The graph contains', len(comp), 'connected components')"
   ]
  },
  {
   "attachments": {},
   "cell_type": "markdown",
   "metadata": {},
   "source": [
    "### Diameter and Shortest Paths\n",
    "Suppose I want to find the shortest path between two nodes, given that they are in the same connected component."
   ]
  },
  {
   "cell_type": "code",
   "execution_count": null,
   "metadata": {},
   "outputs": [],
   "source": [
    "path_16_30 = nx.shortest_path(karateG, source=16, target=30)\n",
    "print(\"Shortest path between nodes 16 and 30:\", path_16_30)"
   ]
  },
  {
   "attachments": {},
   "cell_type": "markdown",
   "metadata": {},
   "source": [
    "The diameter of a graph is the longest shortest path between any two nodes (or in other words the maximum value of the shortest path lengths in a graph)."
   ]
  },
  {
   "cell_type": "code",
   "execution_count": null,
   "metadata": {},
   "outputs": [],
   "source": [
    "# diameter\n",
    "print(\"The diameter of the karate club graph: \", nx.diameter(karateG))\n",
    "# compare with the avg shortest path in the graph\n",
    "print(\"The avg shortest path length of the karate club graph: \", nx.average_shortest_path_length(karateG))"
   ]
  },
  {
   "attachments": {},
   "cell_type": "markdown",
   "metadata": {},
   "source": [
    "### Important nodes in a graph\n",
    "\n",
    "#### 1- Degree: the more interactions a node has, the more important it is."
   ]
  },
  {
   "cell_type": "code",
   "execution_count": null,
   "metadata": {},
   "outputs": [],
   "source": [
    "degrees = dict(karateG.degree(karateG.nodes()))\n",
    "sorted_degree = sorted(degrees.items(), key=itemgetter(1), reverse=True)\n",
    "\n",
    "for i in range(5):\n",
    "    print(\"{}- node {} with degree {}.\".format(i, sorted_degree[i][0], sorted_degree[i][1]))"
   ]
  },
  {
   "attachments": {},
   "cell_type": "markdown",
   "metadata": {},
   "source": [
    "Let's also analyze the *degree distribution*. \n",
    "We can see that most of the node have a small degree and there are only a few nodes with a large degree."
   ]
  },
  {
   "cell_type": "code",
   "execution_count": null,
   "metadata": {},
   "outputs": [],
   "source": [
    "degreeCount['index'].values"
   ]
  },
  {
   "cell_type": "code",
   "execution_count": null,
   "metadata": {},
   "outputs": [],
   "source": [
    "degree_seq = [d[1] for d in sorted_degree]\n",
    "degreeCount = collections.Counter(degree_seq)\n",
    "degreeCount = pd.DataFrame.from_dict( degreeCount, orient='index').reset_index()\n",
    "fig = plt.figure()\n",
    "ax = plt.gca()\n",
    "ax.plot(degreeCount['index'].values, degreeCount[0].values, 'o', c='blue', markersize= 4)\n",
    "plt.ylabel('Frequency')\n",
    "plt.xlabel('Degree')\n",
    "plt.title('Degree distribution for the karate club graph')"
   ]
  },
  {
   "cell_type": "code",
   "execution_count": null,
   "metadata": {},
   "outputs": [],
   "source": [
    "# As a bar plot\n",
    "plot_degree_distribution(karateG)"
   ]
  },
  {
   "attachments": {},
   "cell_type": "markdown",
   "metadata": {},
   "source": [
    "#### 2- Betweeness centrality: the more shortest paths pass through a node, the more important it is!"
   ]
  },
  {
   "cell_type": "code",
   "execution_count": null,
   "metadata": {},
   "outputs": [],
   "source": [
    "# Compute betweenness centrality\n",
    "betweenness = nx.betweenness_centrality(karateG)\n",
    "# Assign the computed centrality values as a node-attribute in your network\n",
    "nx.set_node_attributes(karateG, betweenness, 'betweenness')\n",
    "sorted_betweenness = sorted(betweenness.items(), key=itemgetter(1), reverse=True)\n",
    "\n",
    "for i, bw in sorted_betweenness[:5]:\n",
    "    print(\"node {} has betweeness: {}\".format(i, bw))"
   ]
  },
  {
   "attachments": {},
   "cell_type": "markdown",
   "metadata": {},
   "source": [
    "Let's analyze the betweeness centrality values for all the nodes in the network. As in the case with degree, there are a *few nodes with very high betweeness centrality*, while most of them have a low value."
   ]
  },
  {
   "cell_type": "code",
   "execution_count": null,
   "metadata": {
    "scrolled": true
   },
   "outputs": [],
   "source": [
    "list_nodes =list(karateG.nodes())\n",
    "list_nodes.reverse()   # for showing the nodes with high betweeness centrality \n",
    "pos = nx.circular_layout(karateG)\n",
    "ec = nx.draw_networkx_edges(karateG, pos, alpha=0.1)\n",
    "nc = nx.draw_networkx_nodes(karateG, pos, nodelist=list_nodes, node_color=[karateG.nodes[n][\"betweenness\"] for n in list_nodes], \n",
    "                            alpha=0.8, node_shape = '.')\n",
    "plt.colorbar(nc)\n",
    "plt.axis('off')\n",
    "plt.show()"
   ]
  },
  {
   "attachments": {},
   "cell_type": "markdown",
   "metadata": {},
   "source": [
    "Note that it is not always the case that the node with the highest degree has also the highest betweenness cenetrality. For instance, look at the following example."
   ]
  },
  {
   "cell_type": "code",
   "execution_count": null,
   "metadata": {},
   "outputs": [],
   "source": [
    "G = nx.Graph() \n",
    "G.add_nodes_from(range(1,10))  # add multiple nodes at once\n",
    "\n",
    "# add edges \n",
    "edges = [(1,2), (2,3), (3,4), (4,1), (1,3), (2,4), (6,7),\n",
    "        (4,9), (9,5),\n",
    "        (5,6), (6,7), (7,8), (8,5), (5,7), (6,8)]\n",
    "G.add_edges_from(edges)\n",
    "G.nodes()"
   ]
  },
  {
   "cell_type": "code",
   "execution_count": null,
   "metadata": {},
   "outputs": [],
   "source": [
    "nx.set_node_attributes(G, nx.betweenness_centrality(G), 'betweenness')\n",
    "pos = nx.spring_layout(G)\n",
    "ec = nx.draw_networkx(G, pos, nodelist=G.nodes(),\n",
    "                         node_color=[G.nodes[n][\"betweenness\"] for n in G.nodes()], \n",
    "                         node_shape = '.', node_size=1200, font_color=\"white\", font_weight=\"bold\")\n",
    "plt.colorbar(nc)\n",
    "plt.axis('off')\n",
    "plt.show()"
   ]
  },
  {
   "attachments": {},
   "cell_type": "markdown",
   "metadata": {},
   "source": [
    "The node with the **lowest degree** is the one with the **highest betweeness centrality**. \n"
   ]
  },
  {
   "attachments": {},
   "cell_type": "markdown",
   "metadata": {},
   "source": [
    "### Community detection\n",
    "\n",
    "Community detection is a common class of methods to partition the graph into several clusters. The detected communities can help us to understand hidden relationship among different groups of nodes in a network. In this tutorial we use the [Louvain method](https://en.wikipedia.org/wiki/Louvain_Modularity) which is a \n",
    "clustering algorithm and has become a standard algorithm in the data scientist toolbox. In this method, initially every node is considered as a community. The communities are traversed, and for each community it is tested whether by joining it to a neighboring community, we can obtain a better clustering."
   ]
  },
  {
   "cell_type": "code",
   "execution_count": null,
   "metadata": {},
   "outputs": [],
   "source": [
    "partition = community_louvain.best_partition(karateG, resolution=2)\n",
    "# add it as an attribute to the nodes\n",
    "for n in karateG.nodes:\n",
    "    karateG.nodes[n][\"louvain\"] = partition[n]"
   ]
  },
  {
   "cell_type": "code",
   "execution_count": null,
   "metadata": {},
   "outputs": [],
   "source": [
    "# plot it out\n",
    "pos = nx.circular_layout(karateG)\n",
    "ec = nx.draw_networkx_edges(karateG, pos, alpha=0.2)\n",
    "nc = nx.draw_networkx_nodes(karateG, pos, nodelist=karateG.nodes(), node_color=[karateG.nodes[n][\"louvain\"] for n in karateG.nodes], \n",
    "                            node_size=100, cmap=plt.cm.jet)\n",
    "# plt.axis('off')\n",
    "plt.show()"
   ]
  },
  {
   "attachments": {},
   "cell_type": "markdown",
   "metadata": {},
   "source": [
    "Let's check if the detected communities are consistent with the clubs each node belongs to."
   ]
  },
  {
   "cell_type": "code",
   "execution_count": null,
   "metadata": {},
   "outputs": [],
   "source": [
    "print(\"community 0: \")\n",
    "l = [karateG.nodes[i][\"club\"] for i in range(len(karateG.nodes)) if karateG.nodes[i][\"louvain\"]==0]\n",
    "print(\" - \".join(l))\n",
    "print(\"community 1: \")\n",
    "l = [karateG.nodes[i][\"club\"] for i in range(len(karateG.nodes)) if karateG.nodes[i][\"louvain\"]==1]\n",
    "print(\" - \".join(l))"
   ]
  }
 ],
 "metadata": {
  "kernelspec": {
   "display_name": "Python 3",
   "language": "python",
   "name": "python3"
  },
  "language_info": {
   "codemirror_mode": {
    "name": "ipython",
    "version": 3
   },
   "file_extension": ".py",
   "mimetype": "text/x-python",
   "name": "python",
   "nbconvert_exporter": "python",
   "pygments_lexer": "ipython3",
   "version": "3.8.5"
  }
 },
 "nbformat": 4,
 "nbformat_minor": 2
}
