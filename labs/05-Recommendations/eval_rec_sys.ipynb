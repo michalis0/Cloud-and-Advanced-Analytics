{
  "cells": [
    {
      "cell_type": "markdown",
      "metadata": {
        "id": "view-in-github",
        "colab_type": "text"
      },
      "source": [
        "<a href=\"https://colab.research.google.com/github/michalis0/Cloud-and-Advanced-Analytics/blob/main/labs/05-Recommendations/eval_rec_sys.ipynb\" target=\"_parent\"><img src=\"https://colab.research.google.com/assets/colab-badge.svg\" alt=\"Open In Colab\"/></a>"
      ]
    },
    {
      "cell_type": "code",
      "execution_count": null,
      "metadata": {
        "id": "VGMzLssnVHR-"
      },
      "outputs": [],
      "source": [
        "import os\n",
        "import pandas as pd\n",
        "from google.cloud import bigquery\n",
        "from google.colab import auth\n",
        "auth.authenticate_user()\n",
        "print(\"Authenticated\")\n",
        "\n",
        "# If you want to use your local jupyter notebook:\n",
        "# os.environ[\"GOOGLE_APPLICATION_CREDENTIALS\"] = \"../path-to-your-key-json\""
      ]
    },
    {
      "cell_type": "code",
      "execution_count": null,
      "metadata": {
        "id": "PXY5e3mhVHR_"
      },
      "outputs": [],
      "source": [
        "# Define the BigQuery client\n",
        "client = bigquery.Client(project=\"PROJECT_ID\")"
      ]
    },
    {
      "cell_type": "code",
      "execution_count": null,
      "metadata": {
        "id": "rp66p9v9VHSA"
      },
      "outputs": [],
      "source": [
        "# evaluate the model\n",
        "query = \"\"\"\n",
        "SELECT * FROM\n",
        "ML.EVALUATE(MODEL `PROJECT_ID.DATASET_NAME.first-MF-model`)\n",
        "\"\"\"\n",
        "\n",
        "query_job = client.query(query)\n",
        "query_job.to_dataframe()"
      ]
    },
    {
      "cell_type": "code",
      "execution_count": null,
      "metadata": {
        "id": "pZU1jzSXVHSA"
      },
      "outputs": [],
      "source": [
        "# make recommendations for a set of users\n",
        "query = \"\"\"\n",
        "SELECT * FROM\n",
        "ML.RECOMMEND(MODEL `PROJECT_ID.DATASET_NAME.first-MF-model`,\n",
        "(\n",
        "SELECT\n",
        "  userid\n",
        "FROM\n",
        "  `PROJECT_ID.DATASET_NAME.ml-small-ratings`\n",
        "LIMIT 5))\n",
        "\"\"\"\n",
        "\n",
        "query_job = client.query(query)\n",
        "df = query_job.to_dataframe()\n",
        "df.head(10)"
      ]
    },
    {
      "cell_type": "code",
      "execution_count": null,
      "metadata": {
        "id": "zcADHsDZVHSA"
      },
      "outputs": [],
      "source": [
        "# The output of the ML.RECOMMEND query has a lot of rows. Do you know why?\n",
        "print(df.shape)"
      ]
    },
    {
      "cell_type": "code",
      "execution_count": null,
      "metadata": {
        "id": "gKS8Lh3VVHSB"
      },
      "outputs": [],
      "source": []
    }
  ],
  "metadata": {
    "kernelspec": {
      "display_name": "caa24",
      "language": "python",
      "name": "python3"
    },
    "language_info": {
      "codemirror_mode": {
        "name": "ipython",
        "version": 3
      },
      "file_extension": ".py",
      "mimetype": "text/x-python",
      "name": "python",
      "nbconvert_exporter": "python",
      "pygments_lexer": "ipython3",
      "version": "3.8.5"
    },
    "orig_nbformat": 4,
    "colab": {
      "provenance": [],
      "include_colab_link": true
    }
  },
  "nbformat": 4,
  "nbformat_minor": 0
}
